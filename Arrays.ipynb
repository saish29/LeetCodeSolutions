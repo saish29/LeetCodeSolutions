{
 "cells": [
  {
   "attachments": {},
   "cell_type": "markdown",
   "metadata": {},
   "source": [
    "# Day 1"
   ]
  },
  {
   "attachments": {},
   "cell_type": "markdown",
   "metadata": {},
   "source": [
    "## Two Sum\n",
    "\n",
    "Neetcode - https://youtu.be/KLlXCFG5TnA"
   ]
  },
  {
   "cell_type": "code",
   "execution_count": 1,
   "metadata": {},
   "outputs": [],
   "source": [
    "from typing import List\n",
    "\n",
    "def twoSum(nums: List[int], target: int) -> List[int]:\n",
    "       hash_table = {}\n",
    "\n",
    "       for i, n in enumerate(nums):\n",
    "              diff = target - n\n",
    "\n",
    "              if diff in hash_table:\n",
    "                     \n",
    "                return [hash_table[diff], i]\n",
    "       \n",
    "              hash_table[n] = i\n",
    "\n",
    "            "
   ]
  },
  {
   "cell_type": "code",
   "execution_count": null,
   "metadata": {},
   "outputs": [],
   "source": []
  },
  {
   "attachments": {},
   "cell_type": "markdown",
   "metadata": {},
   "source": [
    "## Valid Parenthesis (String / Stack Problem) VIMP\n",
    "\n",
    "NeetCode - https://youtu.be/WTzjTskDFMg"
   ]
  },
  {
   "cell_type": "code",
   "execution_count": 2,
   "metadata": {},
   "outputs": [],
   "source": [
    "def isValid(s: str) -> bool:\n",
    "    stack = []   # Keeping track of the opening brackets as we go through the string\n",
    "    hashMap = { \")\" : \"(\", \"}\" : \"{\", \"]\" : \"[\" }   # Mapping the closing brackets to their opening counterparts\n",
    "\n",
    "\n",
    "    for char in s:  # Iterating through the string\n",
    "        if char in hashMap:  # If the character is a closing bracket\n",
    "            \n",
    "            if stack and stack[-1] == hashMap[char]:  # If the stack is not empty and the last element in the stack is the opening bracket for the current closing bracket\n",
    "                stack.pop()\n",
    "            \n",
    "            else:\n",
    "                return False # If the stack is empty or the last element in the stack is not the opening bracket for the current closing bracket - No match is found so we return False\n",
    "            \n",
    "        else: # If the character is an opening bracket\n",
    "            stack.append(char)\n",
    "\n",
    "\n",
    "    return True if not stack else False  # If the stack is empty, return True. Otherwise, return False ( As  stack needs to be empty for the parentheses string to be valid )\n",
    "\n",
    "\n"
   ]
  },
  {
   "cell_type": "code",
   "execution_count": 3,
   "metadata": {},
   "outputs": [
    {
     "name": "stdout",
     "output_type": "stream",
     "text": [
      "True\n"
     ]
    }
   ],
   "source": [
    "s = \"()[]{}\"\n",
    "\n",
    "print(isValid(s))"
   ]
  },
  {
   "cell_type": "code",
   "execution_count": 4,
   "metadata": {},
   "outputs": [
    {
     "name": "stdout",
     "output_type": "stream",
     "text": [
      "False\n"
     ]
    }
   ],
   "source": [
    "s = \"(]\"\n",
    "\n",
    "print(isValid(s))"
   ]
  },
  {
   "attachments": {},
   "cell_type": "markdown",
   "metadata": {},
   "source": [
    "# Day 2"
   ]
  },
  {
   "attachments": {},
   "cell_type": "markdown",
   "metadata": {},
   "source": [
    "## Product Of Array Except Self"
   ]
  },
  {
   "cell_type": "code",
   "execution_count": 5,
   "metadata": {},
   "outputs": [],
   "source": [
    "from typing import List\n",
    "\n",
    "def productExceptSelf(nums: List[int]) -> List[int]:\n",
    "    res = [1] * len(nums) #Creating a list of 1s with the same length as the input list\n",
    "\n",
    "    prefix = 1 # Initializing the prefix variable to 1\n",
    "\n",
    "    for i in range(len(nums)):\n",
    "        res[i] = prefix # Setting the current index of the res list to the prefix variable\n",
    "        prefix *= nums[i] # Updating the prefix variable by multiplying it by the current element in the nums list\n",
    "\n",
    "\n",
    "    post = 1\n",
    "\n",
    "    for i in range(len(nums) - 1, -1, -1): # Iterating through the nums list backwards so that we can update the res list with the product of the post variable\n",
    "        res[i] *= post # Updating the res list by multiplying the current index by the post variable\n",
    "        post *= nums[i] # Updating the post variable by multiplying it by the current element in the nums list\n",
    "\n",
    "\n",
    "    return res\n"
   ]
  },
  {
   "cell_type": "code",
   "execution_count": 6,
   "metadata": {},
   "outputs": [
    {
     "name": "stdout",
     "output_type": "stream",
     "text": [
      "[0, 0, 9, 0, 0]\n"
     ]
    }
   ],
   "source": [
    "nums = [-1,1,0,-3,3]\n",
    "\n",
    "print(productExceptSelf(nums))"
   ]
  },
  {
   "attachments": {},
   "cell_type": "markdown",
   "metadata": {},
   "source": [
    "## Valid Sudoku"
   ]
  },
  {
   "cell_type": "code",
   "execution_count": 7,
   "metadata": {},
   "outputs": [],
   "source": [
    "from collections import defaultdict\n",
    "\n",
    "def isValidSudoku(board: List[List[str]]) -> bool:\n",
    "    rows = defaultdict(set) # Creating a dictionary to keep track of the numbers in each row\n",
    "    cols = defaultdict(set) # Creating a dictionary to keep track of the numbers in each column\n",
    "    boxes = defaultdict(set) # Creating a dictionary to keep track of the numbers in each box\n",
    "\n",
    "\n",
    "    # Iterating through the board\n",
    "\n",
    "    for r in range(len(board)):\n",
    "        for c in range(len(board)):\n",
    "            \n",
    "            # Base case - If the current element is not a number, we skip it (No number means dot (.) in the board)\n",
    "\n",
    "            if board[r][c] == \".\":\n",
    "                continue\n",
    "\n",
    "\n",
    "            # Three conditions to check for a valid sudoku board\n",
    "            # 1st condition - If the current number is already in the current row, we return False\n",
    "            # 2nd condition - If the current number is already in the current column, we return False\n",
    "            # 3rd condition - If the current number is already in the current box, we return False\n",
    "\n",
    "\n",
    "            if (board[r][c] in rows[r] or board[r][c] in cols[c] or board[r][c] in boxes[(r // 3, c // 3)]):\n",
    "                return False\n",
    "            \n",
    "\n",
    "            # Adding the current number to the current row, column, and box\n",
    "\n",
    "            rows[r].add(board[r][c])\n",
    "            cols[c].add(board[r][c])\n",
    "            \n",
    "            # Using r//3 and c//3 to get the current box as we will get the that location in 3x3 grid\n",
    "\n",
    "            boxes[(r // 3, c // 3)].add(board[r][c])\n",
    "\n",
    "\n",
    "    return True\n"
   ]
  },
  {
   "cell_type": "code",
   "execution_count": 8,
   "metadata": {},
   "outputs": [
    {
     "name": "stdout",
     "output_type": "stream",
     "text": [
      "True\n",
      "False\n"
     ]
    }
   ],
   "source": [
    "board1 = [[\"5\",\"3\",\".\",\".\",\"7\",\".\",\".\",\".\",\".\"]\n",
    ",[\"6\",\".\",\".\",\"1\",\"9\",\"5\",\".\",\".\",\".\"]\n",
    ",[\".\",\"9\",\"8\",\".\",\".\",\".\",\".\",\"6\",\".\"]\n",
    ",[\"8\",\".\",\".\",\".\",\"6\",\".\",\".\",\".\",\"3\"]\n",
    ",[\"4\",\".\",\".\",\"8\",\".\",\"3\",\".\",\".\",\"1\"]\n",
    ",[\"7\",\".\",\".\",\".\",\"2\",\".\",\".\",\".\",\"6\"]\n",
    ",[\".\",\"6\",\".\",\".\",\".\",\".\",\"2\",\"8\",\".\"]\n",
    ",[\".\",\".\",\".\",\"4\",\"1\",\"9\",\".\",\".\",\"5\"]\n",
    ",[\".\",\".\",\".\",\".\",\"8\",\".\",\".\",\"7\",\"9\"]]\n",
    "\n",
    "board2 = [[\"8\",\"3\",\".\",\".\",\"7\",\".\",\".\",\".\",\".\"]\n",
    ",[\"6\",\".\",\".\",\"1\",\"9\",\"5\",\".\",\".\",\".\"]\n",
    ",[\".\",\"9\",\"8\",\".\",\".\",\".\",\".\",\"6\",\".\"]\n",
    ",[\"8\",\".\",\".\",\".\",\"6\",\".\",\".\",\".\",\"3\"]\n",
    ",[\"4\",\".\",\".\",\"8\",\".\",\"3\",\".\",\".\",\"1\"]\n",
    ",[\"7\",\".\",\".\",\".\",\"2\",\".\",\".\",\".\",\"6\"]\n",
    ",[\".\",\"6\",\".\",\".\",\".\",\".\",\"2\",\"8\",\".\"]\n",
    ",[\".\",\".\",\".\",\"4\",\"1\",\"9\",\".\",\".\",\"5\"]\n",
    ",[\".\",\".\",\".\",\".\",\"8\",\".\",\".\",\"7\",\"9\"]]\n",
    "\n",
    "print(isValidSudoku(board1))\n",
    "\n",
    "print(isValidSudoku(board2))"
   ]
  },
  {
   "attachments": {},
   "cell_type": "markdown",
   "metadata": {},
   "source": [
    "# Day 3"
   ]
  },
  {
   "attachments": {},
   "cell_type": "markdown",
   "metadata": {},
   "source": [
    "## Valid Panlidrome"
   ]
  },
  {
   "cell_type": "code",
   "execution_count": 9,
   "metadata": {},
   "outputs": [],
   "source": [
    "def isPalindrome( s: str) -> bool:\n",
    "    s = \"\".join(c.lower() for c in s if c.isalnum()) # Removing all non-alphanumeric characters and converting all characters to lowercase (Using list comprehension)\n",
    "\n",
    "    return s == s[::-1] # s[::-1] reverses the string\n",
    "\n"
   ]
  },
  {
   "cell_type": "code",
   "execution_count": 10,
   "metadata": {},
   "outputs": [
    {
     "name": "stdout",
     "output_type": "stream",
     "text": [
      "True\n",
      "False\n"
     ]
    }
   ],
   "source": [
    "s1 = \"A man, a plan, a canal: Panama\"\n",
    "s2 = \"race a car\"\n",
    "\n",
    "print(isPalindrome(s1))\n",
    "print(isPalindrome(s2))"
   ]
  },
  {
   "attachments": {},
   "cell_type": "markdown",
   "metadata": {},
   "source": [
    "## Valid Anagram"
   ]
  },
  {
   "cell_type": "code",
   "execution_count": 11,
   "metadata": {},
   "outputs": [],
   "source": [
    "def isAnagram(s: str, t: str) -> bool:\n",
    "    # Checking the base condition first - If the length of the two strings are not equal, we return False\n",
    "    if len(s) != len(t):\n",
    "        return False\n",
    "    \n",
    "    cS, cT = {}, {} # Creating two hashmaps to keep track of the characters in the two strings\n",
    "\n",
    "    # Iterating through the two strings and building the hashmaps\n",
    "\n",
    "    for i in range(len(s)):\n",
    "        cS[s[i]] = 1 + cS.get(s[i], 0) # We use get() to get the value of the current key. If the key does not exist, we return 0, increment it by 1, and set it as the value of the current key\n",
    "        cT[t[i]] = 1 + cT.get(t[i], 0)\n",
    "\n",
    "    # Checking if the two hashmaps are equal\n",
    "\n",
    "    for key in cS:\n",
    "        if cS[key] != cT.get(key, 0): # If the value of the current key in the first hashmap is not equal to the value of the current key in the second hashmap, we return False\n",
    "            return False\n",
    "        \n",
    "    # If we get to this point, it means that the two hashmaps are equal so we return True\n",
    "\n",
    "    return True"
   ]
  },
  {
   "cell_type": "code",
   "execution_count": 12,
   "metadata": {},
   "outputs": [
    {
     "name": "stdout",
     "output_type": "stream",
     "text": [
      "True\n"
     ]
    }
   ],
   "source": [
    "s = \"anagram\"\n",
    "t = \"nagaram\"\n",
    "\n",
    "print(isAnagram(s, t))"
   ]
  },
  {
   "cell_type": "code",
   "execution_count": 13,
   "metadata": {},
   "outputs": [
    {
     "name": "stdout",
     "output_type": "stream",
     "text": [
      "False\n"
     ]
    }
   ],
   "source": [
    "s = \"rat\"\n",
    "t = \"car\"\n",
    "\n",
    "print(isAnagram(s, t))"
   ]
  },
  {
   "attachments": {},
   "cell_type": "markdown",
   "metadata": {},
   "source": [
    "# Day 3"
   ]
  },
  {
   "attachments": {},
   "cell_type": "markdown",
   "metadata": {},
   "source": [
    "## Binary Search"
   ]
  },
  {
   "cell_type": "code",
   "execution_count": 14,
   "metadata": {},
   "outputs": [],
   "source": [
    "from typing import List\n",
    "\n",
    "\n",
    "def search(nums: List[int], target: int) -> int:\n",
    "    # Creating left and right pointers\n",
    "\n",
    "    left, right = 0, len(nums) - 1 # left is initialized to 0 and right is initialized to the last index in the nums list\n",
    "\n",
    "    # Iterating through the nums list using while as we will be updating the left and right pointers\n",
    "\n",
    "    while left <= right:\n",
    "        # Calculating the middle index\n",
    "        mid = (left + right) // 2\n",
    "\n",
    "        # Condition 1 : If middle element is greater than the target, we update the right pointer to mid - 1\n",
    "        if nums[mid] > target:\n",
    "            right = mid - 1\n",
    "\n",
    "        # Condition 2 : Else If middle element is less than the target, we update the left pointer to mid + 1\n",
    "\n",
    "        elif nums[mid] < target:\n",
    "            left = mid + 1\n",
    "\n",
    "        # Condition 3 : Else, we return the middle index\n",
    "\n",
    "        else:\n",
    "            return mid\n",
    "        \n",
    "    # If we get to this point, it means that the target is not in the nums list so we return -1\n",
    "\n",
    "    return -1"
   ]
  },
  {
   "cell_type": "code",
   "execution_count": 15,
   "metadata": {},
   "outputs": [
    {
     "name": "stdout",
     "output_type": "stream",
     "text": [
      "-1\n"
     ]
    }
   ],
   "source": [
    "nums = [-1,0,3,5,9,12] \n",
    "target = 2\n",
    "\n",
    "print(search(nums, target))"
   ]
  },
  {
   "cell_type": "code",
   "execution_count": 16,
   "metadata": {},
   "outputs": [
    {
     "name": "stdout",
     "output_type": "stream",
     "text": [
      "4\n"
     ]
    }
   ],
   "source": [
    "nums = [-1,0,3,5,9,12]\n",
    "target = 9\n",
    "\n",
    "print(search(nums, target))"
   ]
  },
  {
   "attachments": {},
   "cell_type": "markdown",
   "metadata": {},
   "source": [
    "# Day 4"
   ]
  },
  {
   "attachments": {},
   "cell_type": "markdown",
   "metadata": {},
   "source": [
    "## Climbing Stairs"
   ]
  },
  {
   "cell_type": "code",
   "execution_count": 17,
   "metadata": {},
   "outputs": [],
   "source": [
    "def climbStairs(n: int) -> int:\n",
    "    temp, pre, curr = 1, 1, 0 # temp indicates stairs(n - 2), pre indicates stairs(n - 1), and curr indicates stairs(n)\n",
    "    for i in range(n + 1): # Iterating through the range of n + 1 because we want to include n in the range\n",
    "        temp = curr # Storing the current value of curr in temp becasue we will be updating curr in the next line\n",
    "        curr += pre # Updating curr by adding the previous value of curr to it because stairs(n) = stairs(n - 1) + stairs(n - 2)\n",
    "        pre = temp # Updating pre by setting it to the current value of curr\n",
    "\n",
    "\n",
    "    return curr # Returning curr because it will be the value of stairs(n)\n",
    "\n"
   ]
  },
  {
   "cell_type": "code",
   "execution_count": 18,
   "metadata": {},
   "outputs": [
    {
     "name": "stdout",
     "output_type": "stream",
     "text": [
      "3\n"
     ]
    }
   ],
   "source": [
    "print(climbStairs(3))"
   ]
  },
  {
   "attachments": {},
   "cell_type": "markdown",
   "metadata": {},
   "source": [
    "## Longest Palindromic Substring"
   ]
  },
  {
   "cell_type": "code",
   "execution_count": 19,
   "metadata": {},
   "outputs": [],
   "source": [
    "def longestPalindrome(s: str) -> str:\n",
    "    res = \"\" # Empty string to store the longest palindromic substring\n",
    "    maxlen = 0 # Variable to store the length of the longest palindromic substring\n",
    "\n",
    "    # Iterating through the string\n",
    "\n",
    "    for i in range(len(s)):\n",
    "\n",
    "        # Checking for odd length palindromes\n",
    "        left, right = i, i # Initializing the left and right pointers to i - as we will be expanding outwards from the current index both will be equal to i\n",
    "\n",
    "        # Main Condition - While the left and right pointers are within the bounds of the string and the characters at the left and right pointers are equal, we decrement the left pointer and increment the right pointer\n",
    "        while left >= 0 and right < len(s) and s[left] == s[right]:\n",
    "            \n",
    "            # Check if the current palindrome is greater than the maxlen so that we find the maximum length palindrome\n",
    "            if (right - left + 1) > maxlen:\n",
    "                res = s[left : right + 1] # Updating the res string to the current palindrome\n",
    "                maxlen = right - left + 1 # Updating the maxlen variable to the length of the current palindrome\n",
    "\n",
    "            # Decrementing the left pointer and incrementing the right pointer\n",
    "            left -= 1\n",
    "            right += 1\n",
    "\n",
    "\n",
    "        # Checking for even length palindromes\n",
    "\n",
    "        left, right = i, i + 1 # Initializing the left pointer to i and the right pointer to i + 1 as we will be expanding outwards from the current index\n",
    "\n",
    "        # Main Condition - While the left and right pointers are within the bounds of the string and the characters at the left and right pointers are equal, we decrement the left pointer and increment the right pointer\n",
    "        while left >= 0 and right < len(s) and s[left] == s[right]:\n",
    "            \n",
    "            # Check if the current palindrome is greater than the maxlen so that we find the maximum length palindrome\n",
    "            if (right - left + 1) > maxlen:\n",
    "                res = s[left : right + 1] # Updating the res string to the current palindrome\n",
    "                maxlen = right - left + 1 # Updating the maxlen variable to the length of the current palindrome\n",
    "\n",
    "            # Decrementing the left pointer and incrementing the right pointer\n",
    "            left -= 1\n",
    "            right += 1\n",
    "\n",
    "\n",
    "    return res # Returning the res string"
   ]
  },
  {
   "cell_type": "code",
   "execution_count": 20,
   "metadata": {},
   "outputs": [
    {
     "name": "stdout",
     "output_type": "stream",
     "text": [
      "bab\n",
      "bb\n"
     ]
    }
   ],
   "source": [
    "print(longestPalindrome(\"babad\"))\n",
    "print(longestPalindrome(\"cbbd\"))"
   ]
  },
  {
   "attachments": {},
   "cell_type": "markdown",
   "metadata": {},
   "source": [
    "# Day 5"
   ]
  },
  {
   "attachments": {},
   "cell_type": "markdown",
   "metadata": {},
   "source": [
    "## TwoSum - II"
   ]
  },
  {
   "cell_type": "code",
   "execution_count": 21,
   "metadata": {},
   "outputs": [],
   "source": [
    "def twoSum(numbers: List[int], target: int) -> List[int]:\n",
    "    left, right = 0, len(numbers) - 1 # Initializing the left pointer to 0 and the right pointer to the last index in the numbers list\n",
    "\n",
    "    # Main Condition - While the left and right pointers are within the bounds of the numbers list\n",
    "    while left < right:\n",
    "\n",
    "        # 1st Condition - If sum of the numbers at left and right are greater than the target, we decrement the right pointer\n",
    "\n",
    "        if numbers[left] + numbers[right] > target:\n",
    "            right -= 1\n",
    "\n",
    "\n",
    "        # 2nd Condition - If the sum is less than the target, we increment the left pointer\n",
    "\n",
    "        if numbers[left] + numbers[right] < target:\n",
    "            left += 1\n",
    "\n",
    "\n",
    "        # 3rd Condition - If the sum is equal to the target, we return the indices of the two numbers\n",
    "\n",
    "        else:\n",
    "            return[left + 1, right + 1]\n",
    "        "
   ]
  },
  {
   "cell_type": "code",
   "execution_count": 22,
   "metadata": {},
   "outputs": [
    {
     "name": "stdout",
     "output_type": "stream",
     "text": [
      "[1, 3]\n",
      "[1, 3]\n",
      "[1, 2]\n"
     ]
    }
   ],
   "source": [
    "print(twoSum([2,7,11,15], 9))\n",
    "print(twoSum([2,3,4], 6))\n",
    "print(twoSum([-1,0], -1))"
   ]
  },
  {
   "attachments": {},
   "cell_type": "markdown",
   "metadata": {},
   "source": [
    "# Day Six"
   ]
  },
  {
   "attachments": {},
   "cell_type": "markdown",
   "metadata": {},
   "source": [
    "## Longest Consecutive Subsequence"
   ]
  },
  {
   "cell_type": "code",
   "execution_count": 23,
   "metadata": {},
   "outputs": [],
   "source": [
    "def longestConsecutive(nums: List[int]) -> int:\n",
    "    # Converting the nums list to a set to remove duplicates\n",
    "    numset = set(nums)\n",
    "    long_seq = 0 # Variable to store the length of the longest consecutive sequence\n",
    "\n",
    "\n",
    "    # Iterating through the nums list\n",
    "    for n in nums:\n",
    "        # Checking if the current number is the start of a sequence (i.e. n - 1 is not in the set)\n",
    "        if (n - 1) not in numset:\n",
    "            len = 0 # Variable to store the length of the current sequence\n",
    "\n",
    "            # While the current number is in the set, we increment the length of the current sequence and the current number\n",
    "            while (n + len) in numset:\n",
    "                len += 1\n",
    "\n",
    "        # Updating the length of the longest sequence\n",
    "        long_seq = max(long_seq, len)\n",
    "\n",
    "\n",
    "    # Returning the length of the longest sequence\n",
    "    return long_seq\n"
   ]
  },
  {
   "cell_type": "code",
   "execution_count": 24,
   "metadata": {},
   "outputs": [
    {
     "name": "stdout",
     "output_type": "stream",
     "text": [
      "4\n",
      "9\n"
     ]
    }
   ],
   "source": [
    "print(longestConsecutive([100,4,200,1,3,2]))\n",
    "print(longestConsecutive([0,3,7,2,5,8,4,6,0,1]))"
   ]
  },
  {
   "attachments": {},
   "cell_type": "markdown",
   "metadata": {},
   "source": [
    "# Day 7 "
   ]
  },
  {
   "attachments": {},
   "cell_type": "markdown",
   "metadata": {},
   "source": [
    "## 3Sum"
   ]
  },
  {
   "cell_type": "code",
   "execution_count": 25,
   "metadata": {},
   "outputs": [],
   "source": [
    "def threeSum(nums: List[int]) -> List[List[int]]:\n",
    "    # Emply list to store the triplets\n",
    "    res = []\n",
    "\n",
    "    # Sorting the nums list so that we can use the two pointer approach\n",
    "    nums.sort()\n",
    "\n",
    "    # We will use a + b + c = 0 as the main condition and solve b + c using the two pointer approach ( Two Sum Problem)\n",
    "\n",
    "    # Iterating through the nums list using enumerate so that we can get the index and the value at the index\n",
    "\n",
    "    for i,a in enumerate(nums):\n",
    "        # If the current index is greater than 0 and the current value is equal to the previous value, we skip it to avoid duplicates\n",
    "        if i > 0 and a == nums[i - 1]:\n",
    "            continue\n",
    "\n",
    "        # Intializing the left and right pointers - we will call left as b and right as c, b will be set to i + 1 and c will be set to the last index in the nums list\n",
    "\n",
    "        b, c = i + 1, len(nums) - 1\n",
    "\n",
    "        # Main Condition - While b and c are within the bounds of the nums list\n",
    "\n",
    "        while b < c:\n",
    "\n",
    "            # Calculating the sum of the three numbers\n",
    "\n",
    "            total = a + nums[b] + nums[c]\n",
    "\n",
    "            # 1st Condition - if the total is greater than 0, we decrement c as we need a smaller number to get closer to 0\n",
    "\n",
    "            if total > 0:\n",
    "                c -= 1\n",
    "\n",
    "            # 2nd Condition - if the total is less than 0, we increment b as we need a larger number to get closer to 0\n",
    "\n",
    "            elif total < 0:\n",
    "                b += 1\n",
    "\n",
    "            # 3rd Condition - if total is equal to 0, we add the triplet to the res list and only increment b as c will be decremented in the next iteration\n",
    "\n",
    "            else:\n",
    "                res.append([a, nums[b], nums[c]])\n",
    "                b += 1\n",
    "\n",
    "                # Now to avoid duplicates, we increment b as long as the current value of b is equal to the previous value of b and b does not cross c\n",
    "\n",
    "                while nums[b] == nums[b - 1] and b < c:\n",
    "                    b += 1\n",
    "\n",
    "        \n",
    "    # Returning the res list\n",
    "    return res\n",
    "\n"
   ]
  },
  {
   "cell_type": "code",
   "execution_count": 26,
   "metadata": {},
   "outputs": [
    {
     "name": "stdout",
     "output_type": "stream",
     "text": [
      "[[-1, -1, 2], [-1, 0, 1]]\n",
      "[]\n"
     ]
    }
   ],
   "source": [
    "print(threeSum([-1,0,1,2,-1,-4]))\n",
    "print(threeSum([0,1,1]))"
   ]
  },
  {
   "attachments": {},
   "cell_type": "markdown",
   "metadata": {},
   "source": [
    "# Day Seven"
   ]
  },
  {
   "attachments": {},
   "cell_type": "markdown",
   "metadata": {},
   "source": [
    "## Container With Most Water"
   ]
  },
  {
   "attachments": {},
   "cell_type": "markdown",
   "metadata": {},
   "source": [
    "### Brute Force"
   ]
  },
  {
   "cell_type": "code",
   "execution_count": 27,
   "metadata": {},
   "outputs": [],
   "source": [
    "def maxArea(height : List[int]) -> int:\n",
    "    # Brute Force\n",
    "    res = 0 # Variable to store the maximum area\n",
    "\n",
    "    for left in range(len(height)): # Iterating through the height list\n",
    "        for right in range(left + 1, len(height)): # Iterating through the height list starting from left + 1\n",
    "            res = max(res, min(height[left], height[right]) * (right - left))\n",
    "\n",
    "    return res"
   ]
  },
  {
   "cell_type": "code",
   "execution_count": 28,
   "metadata": {},
   "outputs": [
    {
     "name": "stdout",
     "output_type": "stream",
     "text": [
      "49\n"
     ]
    }
   ],
   "source": [
    "print(maxArea([1,8,6,2,5,4,8,3,7]))"
   ]
  },
  {
   "attachments": {},
   "cell_type": "markdown",
   "metadata": {},
   "source": [
    "### Linear - Using Two Pointer with width"
   ]
  },
  {
   "attachments": {},
   "cell_type": "markdown",
   "metadata": {},
   "source": [
    "## Trapping Rain Water - Two Pointer"
   ]
  },
  {
   "cell_type": "code",
   "execution_count": 29,
   "metadata": {},
   "outputs": [],
   "source": [
    "def trap(height: List[int]) -> int:\n",
    "    # Edge case - If the height list is empty, we return 0\n",
    "\n",
    "    if not height: return 0 \n",
    "\n",
    "    # Initializing the left and right pointers\n",
    "    left, right = 0, len(height) - 1\n",
    "\n",
    "    # Initializing the leftmax and rightmax variables\n",
    "    maxLeft, maxRight = height[left], height[right]\n",
    "\n",
    "    res = 0\n",
    "\n",
    "    # Main Condition - While the left and right pointers are within the bounds of the height list\n",
    "\n",
    "    while left < right:\n",
    "\n",
    "        # Condition 1 - if maxleft is less than maxright which means the bottleneck is on the left side, we recalculate the maxleft and add the difference between maxleft and the current height at the left pointer to the res variable\n",
    "\n",
    "        if maxLeft < maxRight:\n",
    "            left += 1\n",
    "            maxLeft = max(maxLeft, height[left])\n",
    "            res += maxLeft - height[left]\n",
    "\n",
    "        # Else, we know that the bottleneck is on the right side so we recalculate the maxright and add the difference between maxright and the current height at the right pointer to the res variable\n",
    "\n",
    "        else:\n",
    "            right -= 1\n",
    "            maxRight = max(maxRight, height[right])\n",
    "            res += maxRight - height[right]\n",
    "\n",
    "\n",
    "    # Returning the res variable\n",
    "    return res\n",
    "\n"
   ]
  },
  {
   "cell_type": "code",
   "execution_count": 30,
   "metadata": {},
   "outputs": [
    {
     "name": "stdout",
     "output_type": "stream",
     "text": [
      "6\n",
      "9\n"
     ]
    }
   ],
   "source": [
    "print(trap([0,1,0,2,1,0,1,3,2,1,2,1]))\n",
    "print(trap([4,2,0,3,2,5]))"
   ]
  },
  {
   "attachments": {},
   "cell_type": "markdown",
   "metadata": {},
   "source": [
    "# Day 8"
   ]
  },
  {
   "attachments": {},
   "cell_type": "markdown",
   "metadata": {},
   "source": [
    "## Find the index of the first occurence in a string"
   ]
  },
  {
   "cell_type": "code",
   "execution_count": 31,
   "metadata": {},
   "outputs": [],
   "source": [
    "def strStr(haystack: str, needle: str) -> int:\n",
    "    # Edge Case \n",
    "\n",
    "    if needle == \"\":\n",
    "        return 0\n",
    "    \n",
    "    if needle in haystack: # If the needle is in the haystack, we return the index of the needle in the haystack\n",
    "        return haystack.index(needle)\n",
    "    \n",
    "    else:\n",
    "        return -1 # If the needle is not in the haystack, we return -1"
   ]
  },
  {
   "cell_type": "code",
   "execution_count": 32,
   "metadata": {},
   "outputs": [
    {
     "name": "stdout",
     "output_type": "stream",
     "text": [
      "2\n",
      "-1\n"
     ]
    }
   ],
   "source": [
    "print(strStr(\"hello\", \"ll\"))\n",
    "print(strStr(\"aaaaa\", \"bba\"))"
   ]
  },
  {
   "attachments": {},
   "cell_type": "markdown",
   "metadata": {},
   "source": [
    "## 3SumClosest"
   ]
  },
  {
   "cell_type": "code",
   "execution_count": 33,
   "metadata": {},
   "outputs": [],
   "source": [
    "def threesumclosest(nums: List[int], tatget: int) -> int:\n",
    "    # Sort the araay\n",
    "    nums.sort()\n",
    "\n",
    "    # Initialize the res variable to infinity\n",
    "    res = float(\"inf\")\n",
    "\n",
    "    # Iterating through the nums list, we will use a + b + c = target as the main condition and solve b + c using the two pointer approach (Two Sum Problem)\n",
    "\n",
    "    for i, a in enumerate(nums):\n",
    "        if i > 0 and a == nums[i - 1]: # To avoid duplicates, if the current index is greater than 0 and the current value is equal to the previous value, we skip it\n",
    "            continue\n",
    "\n",
    "        # Setting left and right pointer\n",
    "        b, c = i + 1, len(nums) - 1\n",
    "\n",
    "        # Main Condition - While the left and right pointers are within the bounds of the nums list\n",
    "        while b < c:\n",
    "\n",
    "            # Calcualte the total \n",
    "            total = a + nums[b] + nums[c]\n",
    "\n",
    "            # if the the absolute difference between the total and the target is less than the absolute difference between the res and the target, we update the res to the total why? because we want to find the closest sum to the target\n",
    "\n",
    "            if abs(target - total) < abs(target - res):\n",
    "                res = total\n",
    "\n",
    "            if total < target:   # Move the left pointer to the right as we need a larger number to get closer to the target\n",
    "                b += 1\n",
    "\n",
    "            else:               # Move the right pointer to the left as we need a smaller number to get closer to the target\n",
    "                c -= 1\n",
    "\n",
    "\n",
    "    return res"
   ]
  },
  {
   "cell_type": "code",
   "execution_count": 34,
   "metadata": {},
   "outputs": [
    {
     "name": "stdout",
     "output_type": "stream",
     "text": [
      "2\n",
      "0\n",
      "5\n"
     ]
    }
   ],
   "source": [
    "print(threesumclosest([-1,2,1,-4], 1))\n",
    "print(threesumclosest([0,0,0], 1))\n",
    "\n",
    "print(threesumclosest([1,1,-1,-1,3], -1))"
   ]
  },
  {
   "attachments": {},
   "cell_type": "markdown",
   "metadata": {},
   "source": [
    "# Day 9"
   ]
  },
  {
   "attachments": {},
   "cell_type": "markdown",
   "metadata": {},
   "source": [
    "## Highest Altitude "
   ]
  },
  {
   "cell_type": "code",
   "execution_count": 37,
   "metadata": {},
   "outputs": [],
   "source": [
    "## Find the Highest Altitude\n",
    "\n",
    "def largestAltitude(gain: List[int]) -> int:\n",
    "    alti = [0] # Initializing the alti list with 0 as the first element\n",
    "\n",
    "    # Iterating through the gain list and calculating the current gain and appending it to the alti list\n",
    "    for i, val in enumerate(gain):\n",
    "        curr_gain = alti[i] + gain[i] # Calculating the current gain\n",
    "        alti.append(curr_gain)  # Appending the current gain to the alti list\n",
    "\n",
    "\n",
    "    return max(alti) # Returning the maximum value in the alti list\n",
    "\n"
   ]
  },
  {
   "cell_type": "code",
   "execution_count": 38,
   "metadata": {},
   "outputs": [
    {
     "name": "stdout",
     "output_type": "stream",
     "text": [
      "1\n"
     ]
    }
   ],
   "source": [
    "print(largestAltitude([-5,1,5,0,-7]))"
   ]
  },
  {
   "cell_type": "markdown",
   "metadata": {},
   "source": [
    "## Day 10"
   ]
  },
  {
   "cell_type": "markdown",
   "metadata": {},
   "source": [
    "# Design HashMap"
   ]
  },
  {
   "cell_type": "code",
   "execution_count": 1,
   "metadata": {},
   "outputs": [],
   "source": [
    "class Node:\n",
    "    # Setting key and value to -1 as the first node of the LL will be a dummy node\n",
    "    def __init__(self, key = -1, value = -1, next = None):\n",
    "        self.key = key # key of the node\n",
    "        self.value = value # value of the node\n",
    "        self.next = next # pointer to the next node\n",
    "\n",
    "\n",
    "class Hashmap:\n",
    "    def __init__(self):\n",
    "        self.map = [Node() for i in range(10000)] # Creating an array of size 10000 as at most 10^4 calls will be made to the hashmap\n",
    "\n",
    "\n",
    "    def hash_func(self, key):\n",
    "        return key % len(self.map) # Getting the hash key for each key using modulo operation\n",
    "    \n",
    "\n",
    "    def put(self, key, value):\n",
    "        current = self.map[self.hash_func(key)] # Getting the index using hash function and storing it in current\n",
    "\n",
    "        # Traversing the LL at that index from current.next as the first node is a dummy node, we use the dummy node to avoid edge cases like if the LL is empty or the first node is the node we want to delete)\n",
    "\n",
    "        while current.next:\n",
    "\n",
    "            # First Case - New Insertion at the index\n",
    "            if current.next.key == key:\n",
    "                current.next.value = value\n",
    "\n",
    "                return\n",
    "            \n",
    "            current = current.next # On to the next node\n",
    "\n",
    "        # Second Case - Collision Handling, create a new node and append it to the LL at that index\n",
    "\n",
    "        current.next = Node(key, value)\n",
    "\n",
    "\n",
    "    def remove(self, key):\n",
    "        current = self.map[self.hash_func(key)] \n",
    "\n",
    "        # If both current and current.next are not None because first node is a dummy node.\n",
    "        while current.next and current:\n",
    "            if current.next.key == key:\n",
    "                # if the key is matched, we point the current.next to the next node of the node we want to delete\n",
    "                current.next = current.next.next\n",
    "\n",
    "                return \n",
    "            \n",
    "            current = current.next # On to the next node\n",
    "\n",
    "\n",
    "    def get(self, key):\n",
    "        current = self.map[self.hash_func(key)].next # Setting it to next as the first node is a dummy node\n",
    "\n",
    "        while current:\n",
    "            if current.key == key: # If the key is matched, we return the value\n",
    "                return current.value\n",
    "            \n",
    "            current = current.next # On to the next node\n",
    "\n",
    "        return -1\n"
   ]
  },
  {
   "cell_type": "code",
   "execution_count": 2,
   "metadata": {},
   "outputs": [
    {
     "data": {
      "text/plain": [
       "-1"
      ]
     },
     "execution_count": 2,
     "metadata": {},
     "output_type": "execute_result"
    }
   ],
   "source": [
    "# Testng the hashmap\n",
    "\n",
    "hashmap = Hashmap()\n",
    "hashmap.put(1,1)\n",
    "hashmap.put(2,2)\n",
    "hashmap.put(3,6)\n",
    "hashmap.put(4,4)\n",
    "hashmap.put(5,5)\n",
    "hashmap.put(6,6)\n",
    "\n",
    "hashmap.remove(3)\n",
    "hashmap.get(3)"
   ]
  },
  {
   "cell_type": "markdown",
   "metadata": {},
   "source": [
    "## Min Stack"
   ]
  },
  {
   "cell_type": "code",
   "execution_count": 3,
   "metadata": {},
   "outputs": [],
   "source": [
    "import sys\n",
    "\n",
    "class MinStack:\n",
    "\n",
    "    def __init__(self):\n",
    "        self.stack = []\n",
    "        self.min = int(sys.maxsize)\n",
    "\n",
    "    def push(self, val: int) -> None:\n",
    "        if val <= self.min:\n",
    "            self.stack.append(self.min)\n",
    "            self.min = val\n",
    "\n",
    "        self.stack.append(val)        \n",
    "\n",
    "    def pop(self) -> None:\n",
    "        popped = self.stack.pop()\n",
    "\n",
    "        if popped == self.min:\n",
    "            self.min = self.stack.pop()\n",
    "        \n",
    "\n",
    "    def top(self) -> int:\n",
    "        return self.stack[-1]\n",
    "        \n",
    "\n",
    "    def getMin(self) -> int:\n",
    "        return self.min"
   ]
  },
  {
   "cell_type": "code",
   "execution_count": 4,
   "metadata": {},
   "outputs": [
    {
     "data": {
      "text/plain": [
       "-3"
      ]
     },
     "execution_count": 4,
     "metadata": {},
     "output_type": "execute_result"
    }
   ],
   "source": [
    "# Testing the MinStack\n",
    "\n",
    "minstack = MinStack()\n",
    "minstack.push(-2)\n",
    "minstack.push(0)\n",
    "minstack.push(-3)\n",
    "minstack.getMin()"
   ]
  }
 ],
 "metadata": {
  "kernelspec": {
   "display_name": "Python 3",
   "language": "python",
   "name": "python3"
  },
  "language_info": {
   "codemirror_mode": {
    "name": "ipython",
    "version": 3
   },
   "file_extension": ".py",
   "mimetype": "text/x-python",
   "name": "python",
   "nbconvert_exporter": "python",
   "pygments_lexer": "ipython3",
   "version": "3.10.11"
  },
  "orig_nbformat": 4
 },
 "nbformat": 4,
 "nbformat_minor": 2
}
