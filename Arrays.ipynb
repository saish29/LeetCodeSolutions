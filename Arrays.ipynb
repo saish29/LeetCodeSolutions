{
 "cells": [
  {
   "attachments": {},
   "cell_type": "markdown",
   "metadata": {},
   "source": [
    "# Day 1"
   ]
  },
  {
   "attachments": {},
   "cell_type": "markdown",
   "metadata": {},
   "source": [
    "## Two Sum\n",
    "\n",
    "Neetcode - https://youtu.be/KLlXCFG5TnA"
   ]
  },
  {
   "cell_type": "code",
   "execution_count": 10,
   "metadata": {},
   "outputs": [],
   "source": [
    "from typing import List\n",
    "\n",
    "def twoSum(nums: List[int], target: int) -> List[int]:\n",
    "       hash_table = {}\n",
    "\n",
    "       for i, n in enumerate(nums):\n",
    "              diff = target - n\n",
    "\n",
    "              if diff in hash_table:\n",
    "                     \n",
    "                return [hash_table[diff], i]\n",
    "       \n",
    "              hash_table[n] = i\n",
    "\n",
    "            "
   ]
  },
  {
   "cell_type": "code",
   "execution_count": 26,
   "metadata": {},
   "outputs": [
    {
     "ename": "TypeError",
     "evalue": "twoSum() missing 1 required positional argument: 'target'",
     "output_type": "error",
     "traceback": [
      "\u001b[1;31m---------------------------------------------------------------------------\u001b[0m",
      "\u001b[1;31mTypeError\u001b[0m                                 Traceback (most recent call last)",
      "Cell \u001b[1;32mIn[26], line 5\u001b[0m\n\u001b[0;32m      1\u001b[0m nums \u001b[39m=\u001b[39m [\u001b[39m2\u001b[39m,\u001b[39m7\u001b[39m,\u001b[39m11\u001b[39m,\u001b[39m15\u001b[39m]\n\u001b[0;32m      2\u001b[0m target \u001b[39m=\u001b[39m \u001b[39m9\u001b[39m\n\u001b[1;32m----> 5\u001b[0m twoSum(nums, \u001b[39m24\u001b[39;49m)\n",
      "\u001b[1;31mTypeError\u001b[0m: twoSum() missing 1 required positional argument: 'target'"
     ]
    }
   ],
   "source": []
  },
  {
   "attachments": {},
   "cell_type": "markdown",
   "metadata": {},
   "source": [
    "## Valid Parenthesis (String / Stack Problem) VIMP\n",
    "\n",
    "NeetCode - https://youtu.be/WTzjTskDFMg"
   ]
  },
  {
   "cell_type": "code",
   "execution_count": 33,
   "metadata": {},
   "outputs": [],
   "source": [
    "def isValid(s: str) -> bool:\n",
    "    stack = []   # Keeping track of the opening brackets as we go through the string\n",
    "    hashMap = { \")\" : \"(\", \"}\" : \"{\", \"]\" : \"[\" }   # Mapping the closing brackets to their opening counterparts\n",
    "\n",
    "\n",
    "    for char in s:  # Iterating through the string\n",
    "        if char in hashMap:  # If the character is a closing bracket\n",
    "            \n",
    "            if stack and stack[-1] == hashMap[char]:  # If the stack is not empty and the last element in the stack is the opening bracket for the current closing bracket\n",
    "                stack.pop()\n",
    "            \n",
    "            else:\n",
    "                return False # If the stack is empty or the last element in the stack is not the opening bracket for the current closing bracket - No match is found so we return False\n",
    "            \n",
    "        else: # If the character is an opening bracket\n",
    "            stack.append(char)\n",
    "\n",
    "\n",
    "    return True if not stack else False  # If the stack is empty, return True. Otherwise, return False ( As  stack needs to be empty for the parentheses string to be valid )\n",
    "\n",
    "\n"
   ]
  },
  {
   "cell_type": "code",
   "execution_count": 34,
   "metadata": {},
   "outputs": [
    {
     "name": "stdout",
     "output_type": "stream",
     "text": [
      "True\n"
     ]
    }
   ],
   "source": [
    "s = \"()[]{}\"\n",
    "\n",
    "print(isValid(s))"
   ]
  },
  {
   "cell_type": "code",
   "execution_count": 35,
   "metadata": {},
   "outputs": [
    {
     "name": "stdout",
     "output_type": "stream",
     "text": [
      "False\n"
     ]
    }
   ],
   "source": [
    "s = \"(]\"\n",
    "\n",
    "print(isValid(s))"
   ]
  },
  {
   "attachments": {},
   "cell_type": "markdown",
   "metadata": {},
   "source": [
    "# Day 2"
   ]
  },
  {
   "attachments": {},
   "cell_type": "markdown",
   "metadata": {},
   "source": [
    "## Product Of Array Except Self"
   ]
  },
  {
   "cell_type": "code",
   "execution_count": 39,
   "metadata": {},
   "outputs": [],
   "source": [
    "from typing import List\n",
    "\n",
    "def productExceptSelf(nums: List[int]) -> List[int]:\n",
    "    res = [1] * len(nums) #Creating a list of 1s with the same length as the input list\n",
    "\n",
    "    prefix = 1 # Initializing the prefix variable to 1\n",
    "\n",
    "    for i in range(len(nums)):\n",
    "        res[i] = prefix # Setting the current index of the res list to the prefix variable\n",
    "        prefix *= nums[i] # Updating the prefix variable by multiplying it by the current element in the nums list\n",
    "\n",
    "\n",
    "    post = 1\n",
    "\n",
    "    for i in range(len(nums) - 1, -1, -1): # Iterating through the nums list backwards so that we can update the res list with the product of the post variable\n",
    "        res[i] *= post # Updating the res list by multiplying the current index by the post variable\n",
    "        post *= nums[i] # Updating the post variable by multiplying it by the current element in the nums list\n",
    "\n",
    "\n",
    "    return res\n"
   ]
  },
  {
   "cell_type": "code",
   "execution_count": 40,
   "metadata": {},
   "outputs": [
    {
     "name": "stdout",
     "output_type": "stream",
     "text": [
      "[0, 0, 9, 0, 0]\n"
     ]
    }
   ],
   "source": [
    "nums = [-1,1,0,-3,3]\n",
    "\n",
    "print(productExceptSelf(nums))"
   ]
  },
  {
   "attachments": {},
   "cell_type": "markdown",
   "metadata": {},
   "source": [
    "## Valid Sudoku"
   ]
  },
  {
   "cell_type": "code",
   "execution_count": 41,
   "metadata": {},
   "outputs": [],
   "source": [
    "from collections import defaultdict\n",
    "\n",
    "def isValidSudoku(board: List[List[str]]) -> bool:\n",
    "    rows = defaultdict(set) # Creating a dictionary to keep track of the numbers in each row\n",
    "    cols = defaultdict(set) # Creating a dictionary to keep track of the numbers in each column\n",
    "    boxes = defaultdict(set) # Creating a dictionary to keep track of the numbers in each box\n",
    "\n",
    "\n",
    "    # Iterating through the board\n",
    "\n",
    "    for r in range(len(board)):\n",
    "        for c in range(len(board)):\n",
    "            \n",
    "            # Base case - If the current element is not a number, we skip it (No number means dot (.) in the board)\n",
    "\n",
    "            if board[r][c] == \".\":\n",
    "                continue\n",
    "\n",
    "\n",
    "            # Three conditions to check for a valid sudoku board\n",
    "            # 1st condition - If the current number is already in the current row, we return False\n",
    "            # 2nd condition - If the current number is already in the current column, we return False\n",
    "            # 3rd condition - If the current number is already in the current box, we return False\n",
    "\n",
    "\n",
    "            if (board[r][c] in rows[r] or board[r][c] in cols[c] or board[r][c] in boxes[(r // 3, c // 3)]):\n",
    "                return False\n",
    "            \n",
    "\n",
    "            # Adding the current number to the current row, column, and box\n",
    "\n",
    "            rows[r].add(board[r][c])\n",
    "            cols[c].add(board[r][c])\n",
    "            \n",
    "            # Using r//3 and c//3 to get the current box as we will get the that location in 3x3 grid\n",
    "\n",
    "            boxes[(r // 3, c // 3)].add(board[r][c])\n",
    "\n",
    "\n",
    "    return True\n"
   ]
  },
  {
   "cell_type": "code",
   "execution_count": 43,
   "metadata": {},
   "outputs": [
    {
     "name": "stdout",
     "output_type": "stream",
     "text": [
      "True\n",
      "False\n"
     ]
    }
   ],
   "source": [
    "board1 = [[\"5\",\"3\",\".\",\".\",\"7\",\".\",\".\",\".\",\".\"]\n",
    ",[\"6\",\".\",\".\",\"1\",\"9\",\"5\",\".\",\".\",\".\"]\n",
    ",[\".\",\"9\",\"8\",\".\",\".\",\".\",\".\",\"6\",\".\"]\n",
    ",[\"8\",\".\",\".\",\".\",\"6\",\".\",\".\",\".\",\"3\"]\n",
    ",[\"4\",\".\",\".\",\"8\",\".\",\"3\",\".\",\".\",\"1\"]\n",
    ",[\"7\",\".\",\".\",\".\",\"2\",\".\",\".\",\".\",\"6\"]\n",
    ",[\".\",\"6\",\".\",\".\",\".\",\".\",\"2\",\"8\",\".\"]\n",
    ",[\".\",\".\",\".\",\"4\",\"1\",\"9\",\".\",\".\",\"5\"]\n",
    ",[\".\",\".\",\".\",\".\",\"8\",\".\",\".\",\"7\",\"9\"]]\n",
    "\n",
    "board2 = [[\"8\",\"3\",\".\",\".\",\"7\",\".\",\".\",\".\",\".\"]\n",
    ",[\"6\",\".\",\".\",\"1\",\"9\",\"5\",\".\",\".\",\".\"]\n",
    ",[\".\",\"9\",\"8\",\".\",\".\",\".\",\".\",\"6\",\".\"]\n",
    ",[\"8\",\".\",\".\",\".\",\"6\",\".\",\".\",\".\",\"3\"]\n",
    ",[\"4\",\".\",\".\",\"8\",\".\",\"3\",\".\",\".\",\"1\"]\n",
    ",[\"7\",\".\",\".\",\".\",\"2\",\".\",\".\",\".\",\"6\"]\n",
    ",[\".\",\"6\",\".\",\".\",\".\",\".\",\"2\",\"8\",\".\"]\n",
    ",[\".\",\".\",\".\",\"4\",\"1\",\"9\",\".\",\".\",\"5\"]\n",
    ",[\".\",\".\",\".\",\".\",\"8\",\".\",\".\",\"7\",\"9\"]]\n",
    "\n",
    "print(isValidSudoku(board1))\n",
    "\n",
    "print(isValidSudoku(board2))"
   ]
  }
 ],
 "metadata": {
  "kernelspec": {
   "display_name": "Python 3",
   "language": "python",
   "name": "python3"
  },
  "language_info": {
   "codemirror_mode": {
    "name": "ipython",
    "version": 3
   },
   "file_extension": ".py",
   "mimetype": "text/x-python",
   "name": "python",
   "nbconvert_exporter": "python",
   "pygments_lexer": "ipython3",
   "version": "3.10.11"
  },
  "orig_nbformat": 4
 },
 "nbformat": 4,
 "nbformat_minor": 2
}
