{
 "cells": [
  {
   "attachments": {},
   "cell_type": "markdown",
   "metadata": {},
   "source": [
    "# Day 1"
   ]
  },
  {
   "attachments": {},
   "cell_type": "markdown",
   "metadata": {},
   "source": [
    "## Two Sum\n",
    "\n",
    "Neetcode - https://youtu.be/KLlXCFG5TnA"
   ]
  },
  {
   "cell_type": "code",
   "execution_count": 10,
   "metadata": {},
   "outputs": [],
   "source": [
    "from typing import List\n",
    "\n",
    "def twoSum(nums: List[int], target: int) -> List[int]:\n",
    "       hash_table = {}\n",
    "\n",
    "       for i, n in enumerate(nums):\n",
    "              diff = target - n\n",
    "\n",
    "              if diff in hash_table:\n",
    "                     \n",
    "                return [hash_table[diff], i]\n",
    "       \n",
    "              hash_table[n] = i\n",
    "\n",
    "            "
   ]
  },
  {
   "cell_type": "code",
   "execution_count": 26,
   "metadata": {},
   "outputs": [
    {
     "ename": "TypeError",
     "evalue": "twoSum() missing 1 required positional argument: 'target'",
     "output_type": "error",
     "traceback": [
      "\u001b[1;31m---------------------------------------------------------------------------\u001b[0m",
      "\u001b[1;31mTypeError\u001b[0m                                 Traceback (most recent call last)",
      "Cell \u001b[1;32mIn[26], line 5\u001b[0m\n\u001b[0;32m      1\u001b[0m nums \u001b[39m=\u001b[39m [\u001b[39m2\u001b[39m,\u001b[39m7\u001b[39m,\u001b[39m11\u001b[39m,\u001b[39m15\u001b[39m]\n\u001b[0;32m      2\u001b[0m target \u001b[39m=\u001b[39m \u001b[39m9\u001b[39m\n\u001b[1;32m----> 5\u001b[0m twoSum(nums, \u001b[39m24\u001b[39;49m)\n",
      "\u001b[1;31mTypeError\u001b[0m: twoSum() missing 1 required positional argument: 'target'"
     ]
    }
   ],
   "source": []
  },
  {
   "attachments": {},
   "cell_type": "markdown",
   "metadata": {},
   "source": [
    "## Valid Parenthesis (String / Stack Problem) VIMP\n",
    "\n",
    "NeetCode - https://youtu.be/WTzjTskDFMg"
   ]
  },
  {
   "cell_type": "code",
   "execution_count": 33,
   "metadata": {},
   "outputs": [],
   "source": [
    "def isValid(s: str) -> bool:\n",
    "    stack = []   # Keeping track of the opening brackets as we go through the string\n",
    "    hashMap = { \")\" : \"(\", \"}\" : \"{\", \"]\" : \"[\" }   # Mapping the closing brackets to their opening counterparts\n",
    "\n",
    "\n",
    "    for char in s:  # Iterating through the string\n",
    "        if char in hashMap:  # If the character is a closing bracket\n",
    "            \n",
    "            if stack and stack[-1] == hashMap[char]:  # If the stack is not empty and the last element in the stack is the opening bracket for the current closing bracket\n",
    "                stack.pop()\n",
    "            \n",
    "            else:\n",
    "                return False # If the stack is empty or the last element in the stack is not the opening bracket for the current closing bracket - No match is found so we return False\n",
    "            \n",
    "        else: # If the character is an opening bracket\n",
    "            stack.append(char)\n",
    "\n",
    "\n",
    "    return True if not stack else False  # If the stack is empty, return True. Otherwise, return False ( As  stack needs to be empty for the parentheses string to be valid )\n",
    "\n",
    "\n"
   ]
  },
  {
   "cell_type": "code",
   "execution_count": 34,
   "metadata": {},
   "outputs": [
    {
     "name": "stdout",
     "output_type": "stream",
     "text": [
      "True\n"
     ]
    }
   ],
   "source": [
    "s = \"()[]{}\"\n",
    "\n",
    "print(isValid(s))"
   ]
  },
  {
   "cell_type": "code",
   "execution_count": 35,
   "metadata": {},
   "outputs": [
    {
     "name": "stdout",
     "output_type": "stream",
     "text": [
      "False\n"
     ]
    }
   ],
   "source": [
    "s = \"(]\"\n",
    "\n",
    "print(isValid(s))"
   ]
  },
  {
   "attachments": {},
   "cell_type": "markdown",
   "metadata": {},
   "source": [
    "# Day 2"
   ]
  },
  {
   "attachments": {},
   "cell_type": "markdown",
   "metadata": {},
   "source": [
    "## Product Of Array Except Self"
   ]
  },
  {
   "cell_type": "code",
   "execution_count": 39,
   "metadata": {},
   "outputs": [],
   "source": [
    "from typing import List\n",
    "\n",
    "def productExceptSelf(nums: List[int]) -> List[int]:\n",
    "    res = [1] * len(nums) #Creating a list of 1s with the same length as the input list\n",
    "\n",
    "    prefix = 1 # Initializing the prefix variable to 1\n",
    "\n",
    "    for i in range(len(nums)):\n",
    "        res[i] = prefix # Setting the current index of the res list to the prefix variable\n",
    "        prefix *= nums[i] # Updating the prefix variable by multiplying it by the current element in the nums list\n",
    "\n",
    "\n",
    "    post = 1\n",
    "\n",
    "    for i in range(len(nums) - 1, -1, -1): # Iterating through the nums list backwards so that we can update the res list with the product of the post variable\n",
    "        res[i] *= post # Updating the res list by multiplying the current index by the post variable\n",
    "        post *= nums[i] # Updating the post variable by multiplying it by the current element in the nums list\n",
    "\n",
    "\n",
    "    return res\n"
   ]
  },
  {
   "cell_type": "code",
   "execution_count": 40,
   "metadata": {},
   "outputs": [
    {
     "name": "stdout",
     "output_type": "stream",
     "text": [
      "[0, 0, 9, 0, 0]\n"
     ]
    }
   ],
   "source": [
    "nums = [-1,1,0,-3,3]\n",
    "\n",
    "print(productExceptSelf(nums))"
   ]
  },
  {
   "attachments": {},
   "cell_type": "markdown",
   "metadata": {},
   "source": [
    "## Valid Sudoku"
   ]
  },
  {
   "cell_type": "code",
   "execution_count": 41,
   "metadata": {},
   "outputs": [],
   "source": [
    "from collections import defaultdict\n",
    "\n",
    "def isValidSudoku(board: List[List[str]]) -> bool:\n",
    "    rows = defaultdict(set) # Creating a dictionary to keep track of the numbers in each row\n",
    "    cols = defaultdict(set) # Creating a dictionary to keep track of the numbers in each column\n",
    "    boxes = defaultdict(set) # Creating a dictionary to keep track of the numbers in each box\n",
    "\n",
    "\n",
    "    # Iterating through the board\n",
    "\n",
    "    for r in range(len(board)):\n",
    "        for c in range(len(board)):\n",
    "            \n",
    "            # Base case - If the current element is not a number, we skip it (No number means dot (.) in the board)\n",
    "\n",
    "            if board[r][c] == \".\":\n",
    "                continue\n",
    "\n",
    "\n",
    "            # Three conditions to check for a valid sudoku board\n",
    "            # 1st condition - If the current number is already in the current row, we return False\n",
    "            # 2nd condition - If the current number is already in the current column, we return False\n",
    "            # 3rd condition - If the current number is already in the current box, we return False\n",
    "\n",
    "\n",
    "            if (board[r][c] in rows[r] or board[r][c] in cols[c] or board[r][c] in boxes[(r // 3, c // 3)]):\n",
    "                return False\n",
    "            \n",
    "\n",
    "            # Adding the current number to the current row, column, and box\n",
    "\n",
    "            rows[r].add(board[r][c])\n",
    "            cols[c].add(board[r][c])\n",
    "            \n",
    "            # Using r//3 and c//3 to get the current box as we will get the that location in 3x3 grid\n",
    "\n",
    "            boxes[(r // 3, c // 3)].add(board[r][c])\n",
    "\n",
    "\n",
    "    return True\n"
   ]
  },
  {
   "cell_type": "code",
   "execution_count": 43,
   "metadata": {},
   "outputs": [
    {
     "name": "stdout",
     "output_type": "stream",
     "text": [
      "True\n",
      "False\n"
     ]
    }
   ],
   "source": [
    "board1 = [[\"5\",\"3\",\".\",\".\",\"7\",\".\",\".\",\".\",\".\"]\n",
    ",[\"6\",\".\",\".\",\"1\",\"9\",\"5\",\".\",\".\",\".\"]\n",
    ",[\".\",\"9\",\"8\",\".\",\".\",\".\",\".\",\"6\",\".\"]\n",
    ",[\"8\",\".\",\".\",\".\",\"6\",\".\",\".\",\".\",\"3\"]\n",
    ",[\"4\",\".\",\".\",\"8\",\".\",\"3\",\".\",\".\",\"1\"]\n",
    ",[\"7\",\".\",\".\",\".\",\"2\",\".\",\".\",\".\",\"6\"]\n",
    ",[\".\",\"6\",\".\",\".\",\".\",\".\",\"2\",\"8\",\".\"]\n",
    ",[\".\",\".\",\".\",\"4\",\"1\",\"9\",\".\",\".\",\"5\"]\n",
    ",[\".\",\".\",\".\",\".\",\"8\",\".\",\".\",\"7\",\"9\"]]\n",
    "\n",
    "board2 = [[\"8\",\"3\",\".\",\".\",\"7\",\".\",\".\",\".\",\".\"]\n",
    ",[\"6\",\".\",\".\",\"1\",\"9\",\"5\",\".\",\".\",\".\"]\n",
    ",[\".\",\"9\",\"8\",\".\",\".\",\".\",\".\",\"6\",\".\"]\n",
    ",[\"8\",\".\",\".\",\".\",\"6\",\".\",\".\",\".\",\"3\"]\n",
    ",[\"4\",\".\",\".\",\"8\",\".\",\"3\",\".\",\".\",\"1\"]\n",
    ",[\"7\",\".\",\".\",\".\",\"2\",\".\",\".\",\".\",\"6\"]\n",
    ",[\".\",\"6\",\".\",\".\",\".\",\".\",\"2\",\"8\",\".\"]\n",
    ",[\".\",\".\",\".\",\"4\",\"1\",\"9\",\".\",\".\",\"5\"]\n",
    ",[\".\",\".\",\".\",\".\",\"8\",\".\",\".\",\"7\",\"9\"]]\n",
    "\n",
    "print(isValidSudoku(board1))\n",
    "\n",
    "print(isValidSudoku(board2))"
   ]
  },
  {
   "attachments": {},
   "cell_type": "markdown",
   "metadata": {},
   "source": [
    "# Day 3"
   ]
  },
  {
   "attachments": {},
   "cell_type": "markdown",
   "metadata": {},
   "source": [
    "## Valid Panlidrome"
   ]
  },
  {
   "cell_type": "code",
   "execution_count": 4,
   "metadata": {},
   "outputs": [],
   "source": [
    "def isPalindrome( s: str) -> bool:\n",
    "    s = \"\".join(c.lower() for c in s if c.isalnum()) # Removing all non-alphanumeric characters and converting all characters to lowercase (Using list comprehension)\n",
    "\n",
    "    return s == s[::-1] # s[::-1] reverses the string\n",
    "\n"
   ]
  },
  {
   "cell_type": "code",
   "execution_count": 5,
   "metadata": {},
   "outputs": [
    {
     "name": "stdout",
     "output_type": "stream",
     "text": [
      "True\n",
      "False\n"
     ]
    }
   ],
   "source": [
    "s1 = \"A man, a plan, a canal: Panama\"\n",
    "s2 = \"race a car\"\n",
    "\n",
    "print(isPalindrome(s1))\n",
    "print(isPalindrome(s2))"
   ]
  },
  {
   "attachments": {},
   "cell_type": "markdown",
   "metadata": {},
   "source": [
    "## Valid Anagram"
   ]
  },
  {
   "cell_type": "code",
   "execution_count": 9,
   "metadata": {},
   "outputs": [],
   "source": [
    "def isAnagram(s: str, t: str) -> bool:\n",
    "    # Checking the base condition first - If the length of the two strings are not equal, we return False\n",
    "    if len(s) != len(t):\n",
    "        return False\n",
    "    \n",
    "    cS, cT = {}, {} # Creating two hashmaps to keep track of the characters in the two strings\n",
    "\n",
    "    # Iterating through the two strings and building the hashmaps\n",
    "\n",
    "    for i in range(len(s)):\n",
    "        cS[s[i]] = 1 + cS.get(s[i], 0) # We use get() to get the value of the current key. If the key does not exist, we return 0, increment it by 1, and set it as the value of the current key\n",
    "        cT[t[i]] = 1 + cT.get(t[i], 0)\n",
    "\n",
    "    # Checking if the two hashmaps are equal\n",
    "\n",
    "    for key in cS:\n",
    "        if cS[key] != cT.get(key, 0): # If the value of the current key in the first hashmap is not equal to the value of the current key in the second hashmap, we return False\n",
    "            return False\n",
    "        \n",
    "    # If we get to this point, it means that the two hashmaps are equal so we return True\n",
    "\n",
    "    return True"
   ]
  },
  {
   "cell_type": "code",
   "execution_count": 10,
   "metadata": {},
   "outputs": [
    {
     "name": "stdout",
     "output_type": "stream",
     "text": [
      "True\n"
     ]
    }
   ],
   "source": [
    "s = \"anagram\"\n",
    "t = \"nagaram\"\n",
    "\n",
    "print(isAnagram(s, t))"
   ]
  },
  {
   "cell_type": "code",
   "execution_count": 11,
   "metadata": {},
   "outputs": [
    {
     "name": "stdout",
     "output_type": "stream",
     "text": [
      "False\n"
     ]
    }
   ],
   "source": [
    "s = \"rat\"\n",
    "t = \"car\"\n",
    "\n",
    "print(isAnagram(s, t))"
   ]
  },
  {
   "attachments": {},
   "cell_type": "markdown",
   "metadata": {},
   "source": [
    "# Day 3"
   ]
  },
  {
   "attachments": {},
   "cell_type": "markdown",
   "metadata": {},
   "source": [
    "## Binary Search"
   ]
  },
  {
   "cell_type": "code",
   "execution_count": 15,
   "metadata": {},
   "outputs": [],
   "source": [
    "from typing import List\n",
    "\n",
    "\n",
    "def search(nums: List[int], target: int) -> int:\n",
    "    # Creating left and right pointers\n",
    "\n",
    "    left, right = 0, len(nums) - 1 # left is initialized to 0 and right is initialized to the last index in the nums list\n",
    "\n",
    "    # Iterating through the nums list using while as we will be updating the left and right pointers\n",
    "\n",
    "    while left <= right:\n",
    "        # Calculating the middle index\n",
    "        mid = (left + right) // 2\n",
    "\n",
    "        # Condition 1 : If middle element is greater than the target, we update the right pointer to mid - 1\n",
    "        if nums[mid] > target:\n",
    "            right = mid - 1\n",
    "\n",
    "        # Condition 2 : Else If middle element is less than the target, we update the left pointer to mid + 1\n",
    "\n",
    "        elif nums[mid] < target:\n",
    "            left = mid + 1\n",
    "\n",
    "        # Condition 3 : Else, we return the middle index\n",
    "\n",
    "        else:\n",
    "            return mid\n",
    "        \n",
    "    # If we get to this point, it means that the target is not in the nums list so we return -1\n",
    "\n",
    "    return -1"
   ]
  },
  {
   "cell_type": "code",
   "execution_count": 16,
   "metadata": {},
   "outputs": [
    {
     "name": "stdout",
     "output_type": "stream",
     "text": [
      "-1\n"
     ]
    }
   ],
   "source": [
    "nums = [-1,0,3,5,9,12] \n",
    "target = 2\n",
    "\n",
    "print(search(nums, target))"
   ]
  },
  {
   "cell_type": "code",
   "execution_count": 17,
   "metadata": {},
   "outputs": [
    {
     "name": "stdout",
     "output_type": "stream",
     "text": [
      "4\n"
     ]
    }
   ],
   "source": [
    "nums = [-1,0,3,5,9,12]\n",
    "target = 9\n",
    "\n",
    "print(search(nums, target))"
   ]
  },
  {
   "attachments": {},
   "cell_type": "markdown",
   "metadata": {},
   "source": [
    "# Day 4"
   ]
  },
  {
   "attachments": {},
   "cell_type": "markdown",
   "metadata": {},
   "source": [
    "## Climbing Stairs"
   ]
  },
  {
   "cell_type": "code",
   "execution_count": 22,
   "metadata": {},
   "outputs": [],
   "source": [
    "def climbStairs(n: int) -> int:\n",
    "    temp, pre, curr = 1, 1, 0 # temp indicates stairs(n - 2), pre indicates stairs(n - 1), and curr indicates stairs(n)\n",
    "    for i in range(n + 1): # Iterating through the range of n + 1 because we want to include n in the range\n",
    "        temp = curr # Storing the current value of curr in temp becasue we will be updating curr in the next line\n",
    "        curr += pre # Updating curr by adding the previous value of curr to it because stairs(n) = stairs(n - 1) + stairs(n - 2)\n",
    "        pre = temp # Updating pre by setting it to the current value of curr\n",
    "\n",
    "\n",
    "    return curr # Returning curr because it will be the value of stairs(n)\n",
    "\n"
   ]
  },
  {
   "cell_type": "code",
   "execution_count": 23,
   "metadata": {},
   "outputs": [
    {
     "name": "stdout",
     "output_type": "stream",
     "text": [
      "3\n"
     ]
    }
   ],
   "source": [
    "print(climbStairs(3))"
   ]
  },
  {
   "attachments": {},
   "cell_type": "markdown",
   "metadata": {},
   "source": [
    "## Longest Palindromic Substring"
   ]
  },
  {
   "cell_type": "code",
   "execution_count": 24,
   "metadata": {},
   "outputs": [],
   "source": [
    "def longestPalindrome(s: str) -> str:\n",
    "    res = \"\" # Empty string to store the longest palindromic substring\n",
    "    maxlen = 0 # Variable to store the length of the longest palindromic substring\n",
    "\n",
    "    # Iterating through the string\n",
    "\n",
    "    for i in range(len(s)):\n",
    "\n",
    "        # Checking for odd length palindromes\n",
    "        left, right = i, i # Initializing the left and right pointers to i - as we will be expanding outwards from the current index both will be equal to i\n",
    "\n",
    "        # Main Condition - While the left and right pointers are within the bounds of the string and the characters at the left and right pointers are equal, we decrement the left pointer and increment the right pointer\n",
    "        while left >= 0 and right < len(s) and s[left] == s[right]:\n",
    "            \n",
    "            # Check if the current palindrome is greater than the maxlen so that we find the maximum length palindrome\n",
    "            if (right - left + 1) > maxlen:\n",
    "                res = s[left : right + 1] # Updating the res string to the current palindrome\n",
    "                maxlen = right - left + 1 # Updating the maxlen variable to the length of the current palindrome\n",
    "\n",
    "            # Decrementing the left pointer and incrementing the right pointer\n",
    "            left -= 1\n",
    "            right += 1\n",
    "\n",
    "\n",
    "        # Checking for even length palindromes\n",
    "\n",
    "        left, right = i, i + 1 # Initializing the left pointer to i and the right pointer to i + 1 as we will be expanding outwards from the current index\n",
    "\n",
    "        # Main Condition - While the left and right pointers are within the bounds of the string and the characters at the left and right pointers are equal, we decrement the left pointer and increment the right pointer\n",
    "        while left >= 0 and right < len(s) and s[left] == s[right]:\n",
    "            \n",
    "            # Check if the current palindrome is greater than the maxlen so that we find the maximum length palindrome\n",
    "            if (right - left + 1) > maxlen:\n",
    "                res = s[left : right + 1] # Updating the res string to the current palindrome\n",
    "                maxlen = right - left + 1 # Updating the maxlen variable to the length of the current palindrome\n",
    "\n",
    "            # Decrementing the left pointer and incrementing the right pointer\n",
    "            left -= 1\n",
    "            right += 1\n",
    "\n",
    "\n",
    "    return res # Returning the res string"
   ]
  },
  {
   "cell_type": "code",
   "execution_count": 26,
   "metadata": {},
   "outputs": [
    {
     "name": "stdout",
     "output_type": "stream",
     "text": [
      "bab\n",
      "bb\n"
     ]
    }
   ],
   "source": [
    "print(longestPalindrome(\"babad\"))\n",
    "print(longestPalindrome(\"cbbd\"))"
   ]
  }
 ],
 "metadata": {
  "kernelspec": {
   "display_name": "Python 3",
   "language": "python",
   "name": "python3"
  },
  "language_info": {
   "codemirror_mode": {
    "name": "ipython",
    "version": 3
   },
   "file_extension": ".py",
   "mimetype": "text/x-python",
   "name": "python",
   "nbconvert_exporter": "python",
   "pygments_lexer": "ipython3",
   "version": "3.10.11"
  },
  "orig_nbformat": 4
 },
 "nbformat": 4,
 "nbformat_minor": 2
}
