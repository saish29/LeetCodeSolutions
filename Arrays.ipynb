{
 "cells": [
  {
   "attachments": {},
   "cell_type": "markdown",
   "metadata": {},
   "source": [
    "## Two Sum\n",
    "\n",
    "Neetcode - https://youtu.be/KLlXCFG5TnA"
   ]
  },
  {
   "cell_type": "code",
   "execution_count": 10,
   "metadata": {},
   "outputs": [],
   "source": [
    "from typing import List\n",
    "\n",
    "def twoSum(self, nums: List[int], target: int) -> List[int]:\n",
    "       hash_table = {}\n",
    "\n",
    "       for i, n in enumerate(nums):\n",
    "              diff = target - n\n",
    "\n",
    "              if diff in hash_table:\n",
    "                     \n",
    "                return [hash_table[diff], i]\n",
    "       \n",
    "              hash_table[n] = i\n",
    "\n",
    "            "
   ]
  },
  {
   "cell_type": "code",
   "execution_count": 26,
   "metadata": {},
   "outputs": [
    {
     "ename": "TypeError",
     "evalue": "twoSum() missing 1 required positional argument: 'target'",
     "output_type": "error",
     "traceback": [
      "\u001b[1;31m---------------------------------------------------------------------------\u001b[0m",
      "\u001b[1;31mTypeError\u001b[0m                                 Traceback (most recent call last)",
      "Cell \u001b[1;32mIn[26], line 5\u001b[0m\n\u001b[0;32m      1\u001b[0m nums \u001b[39m=\u001b[39m [\u001b[39m2\u001b[39m,\u001b[39m7\u001b[39m,\u001b[39m11\u001b[39m,\u001b[39m15\u001b[39m]\n\u001b[0;32m      2\u001b[0m target \u001b[39m=\u001b[39m \u001b[39m9\u001b[39m\n\u001b[1;32m----> 5\u001b[0m twoSum(nums, \u001b[39m24\u001b[39;49m)\n",
      "\u001b[1;31mTypeError\u001b[0m: twoSum() missing 1 required positional argument: 'target'"
     ]
    }
   ],
   "source": []
  },
  {
   "attachments": {},
   "cell_type": "markdown",
   "metadata": {},
   "source": [
    "## Valid Parenthesis"
   ]
  }
 ],
 "metadata": {
  "kernelspec": {
   "display_name": "Python 3",
   "language": "python",
   "name": "python3"
  },
  "language_info": {
   "codemirror_mode": {
    "name": "ipython",
    "version": 3
   },
   "file_extension": ".py",
   "mimetype": "text/x-python",
   "name": "python",
   "nbconvert_exporter": "python",
   "pygments_lexer": "ipython3",
   "version": "3.10.11"
  },
  "orig_nbformat": 4
 },
 "nbformat": 4,
 "nbformat_minor": 2
}
