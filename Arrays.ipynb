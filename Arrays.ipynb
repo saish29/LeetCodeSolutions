{
 "cells": [
  {
   "attachments": {},
   "cell_type": "markdown",
   "metadata": {},
   "source": [
    "## Two Sum\n",
    "\n",
    "Neetcode - https://youtu.be/KLlXCFG5TnA"
   ]
  },
  {
   "cell_type": "code",
   "execution_count": 10,
   "metadata": {},
   "outputs": [],
   "source": [
    "from typing import List\n",
    "\n",
    "def twoSum(nums: List[int], target: int) -> List[int]:\n",
    "       hash_table = {}\n",
    "\n",
    "       for i, n in enumerate(nums):\n",
    "              diff = target - n\n",
    "\n",
    "              if diff in hash_table:\n",
    "                     \n",
    "                return [hash_table[diff], i]\n",
    "       \n",
    "              hash_table[n] = i\n",
    "\n",
    "            "
   ]
  },
  {
   "cell_type": "code",
   "execution_count": 26,
   "metadata": {},
   "outputs": [
    {
     "ename": "TypeError",
     "evalue": "twoSum() missing 1 required positional argument: 'target'",
     "output_type": "error",
     "traceback": [
      "\u001b[1;31m---------------------------------------------------------------------------\u001b[0m",
      "\u001b[1;31mTypeError\u001b[0m                                 Traceback (most recent call last)",
      "Cell \u001b[1;32mIn[26], line 5\u001b[0m\n\u001b[0;32m      1\u001b[0m nums \u001b[39m=\u001b[39m [\u001b[39m2\u001b[39m,\u001b[39m7\u001b[39m,\u001b[39m11\u001b[39m,\u001b[39m15\u001b[39m]\n\u001b[0;32m      2\u001b[0m target \u001b[39m=\u001b[39m \u001b[39m9\u001b[39m\n\u001b[1;32m----> 5\u001b[0m twoSum(nums, \u001b[39m24\u001b[39;49m)\n",
      "\u001b[1;31mTypeError\u001b[0m: twoSum() missing 1 required positional argument: 'target'"
     ]
    }
   ],
   "source": []
  },
  {
   "attachments": {},
   "cell_type": "markdown",
   "metadata": {},
   "source": [
    "## Valid Parenthesis (String / Stack Problem) VIMP"
   ]
  },
  {
   "cell_type": "code",
   "execution_count": 33,
   "metadata": {},
   "outputs": [],
   "source": [
    "def isValid(s: str) -> bool:\n",
    "    stack = []   # Keeping track of the opening brackets as we go through the string\n",
    "    hashMap = { \")\" : \"(\", \"}\" : \"{\", \"]\" : \"[\" }   # Mapping the closing brackets to their opening counterparts\n",
    "\n",
    "\n",
    "    for char in s:  # Iterating through the string\n",
    "        if char in hashMap:  # If the character is a closing bracket\n",
    "            \n",
    "            if stack and stack[-1] == hashMap[char]:  # If the stack is not empty and the last element in the stack is the opening bracket for the current closing bracket\n",
    "                stack.pop()\n",
    "            \n",
    "            else:\n",
    "                return False # If the stack is empty or the last element in the stack is not the opening bracket for the current closing bracket - No match is found so we return False\n",
    "            \n",
    "        else: # If the character is an opening bracket\n",
    "            stack.append(char)\n",
    "\n",
    "\n",
    "    return True if not stack else False  # If the stack is empty, return True. Otherwise, return False ( As  stack needs to be empty for the parentheses string to be valid )\n",
    "\n",
    "\n"
   ]
  },
  {
   "cell_type": "code",
   "execution_count": 34,
   "metadata": {},
   "outputs": [
    {
     "name": "stdout",
     "output_type": "stream",
     "text": [
      "True\n"
     ]
    }
   ],
   "source": [
    "s = \"()[]{}\"\n",
    "\n",
    "print(isValid(s))"
   ]
  },
  {
   "cell_type": "code",
   "execution_count": 35,
   "metadata": {},
   "outputs": [
    {
     "name": "stdout",
     "output_type": "stream",
     "text": [
      "False\n"
     ]
    }
   ],
   "source": [
    "s = \"(]\"\n",
    "\n",
    "print(isValid(s))"
   ]
  }
 ],
 "metadata": {
  "kernelspec": {
   "display_name": "Python 3",
   "language": "python",
   "name": "python3"
  },
  "language_info": {
   "codemirror_mode": {
    "name": "ipython",
    "version": 3
   },
   "file_extension": ".py",
   "mimetype": "text/x-python",
   "name": "python",
   "nbconvert_exporter": "python",
   "pygments_lexer": "ipython3",
   "version": "3.10.11"
  },
  "orig_nbformat": 4
 },
 "nbformat": 4,
 "nbformat_minor": 2
}
