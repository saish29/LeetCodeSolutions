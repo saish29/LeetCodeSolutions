{
 "cells": [
  {
   "cell_type": "code",
   "execution_count": 12,
   "metadata": {},
   "outputs": [
    {
     "name": "stdout",
     "output_type": "stream",
     "text": [
      "8\n"
     ]
    }
   ],
   "source": [
    "arr = [1,2,3,5,6,7]\n",
    "\n",
    "low = 0\n",
    "high = len(arr) - 1\n",
    "\n",
    "\n",
    "# Binary Search \n",
    "\n",
    "while low < high:\n",
    "\n",
    "    mid = low + (high - low) // 2\n",
    "    \n",
    " \n",
    "    # Abs value for low \n",
    "\n",
    "    low_abs = abs(low - arr[low])\n",
    "    high_abs = abs(high - arr[high])\n",
    "    mid_abs = abs(mid - arr[mid])\n",
    "\n",
    "\n",
    "    if low_abs == mid_abs:\n",
    "        low = mid + 1\n",
    "\n",
    "    elif high_abs == mid_abs:\n",
    "        high = mid - 1\n",
    "\n",
    "\n",
    "\n",
    "print(arr[low] + 1)\n",
    "    \n",
    "\n",
    "    \n"
   ]
  },
  {
   "cell_type": "code",
   "execution_count": 14,
   "metadata": {},
   "outputs": [
    {
     "name": "stdout",
     "output_type": "stream",
     "text": [
      "The missing element is: 5\n"
     ]
    }
   ],
   "source": [
    "def find_missing_element(arr):\n",
    "    low = 0\n",
    "    high = len(arr) - 1\n",
    "\n",
    "    while low <= high:\n",
    "        mid = low + (high - low) // 2\n",
    "\n",
    "        # If the element at the mid index is equal to mid + 1,\n",
    "        # the missing element is on the right side of the current mid.\n",
    "        if arr[mid] == mid + 1:\n",
    "            low = mid + 1\n",
    "        else:\n",
    "            # If the element at the mid index is not equal to mid + 1,\n",
    "            # the missing element is on the left side of the current mid\n",
    "            # or it is the current mid element itself.\n",
    "            high = mid - 1\n",
    "\n",
    "    # If the loop finishes without finding the missing element,\n",
    "    # it means the missing element is the next integer after arr[high].\n",
    "    return arr[high] + 1\n",
    "\n",
    "arr = [1, 2, 3, 4, 6]  # The missing element is 4\n",
    "\n",
    "missing_element = find_missing_element(arr)\n",
    "print(\"The missing element is:\", missing_element)"
   ]
  }
 ],
 "metadata": {
  "kernelspec": {
   "display_name": "Python 3",
   "language": "python",
   "name": "python3"
  },
  "language_info": {
   "codemirror_mode": {
    "name": "ipython",
    "version": 3
   },
   "file_extension": ".py",
   "mimetype": "text/x-python",
   "name": "python",
   "nbconvert_exporter": "python",
   "pygments_lexer": "ipython3",
   "version": "3.10.11"
  },
  "orig_nbformat": 4
 },
 "nbformat": 4,
 "nbformat_minor": 2
}
