{
 "cells": [
  {
   "cell_type": "code",
   "execution_count": null,
   "metadata": {},
   "outputs": [],
   "source": [
    "def mul(nums):\n",
    "    res = 1\n",
    "    lis = []\n",
    "    for i,n in enumerate(nums):\n",
    "        res *= n\n",
    "        lis.append(res)"
   ]
  },
  {
   "cell_type": "code",
   "execution_count": null,
   "metadata": {},
   "outputs": [],
   "source": [
    "nums = [1,2,3,4]\n",
    "res = 1\n",
    "lis = []\n",
    "for i,n in enumerate(nums):\n",
    "    res *= n\n",
    "\n",
    "for i,n in enumerate(nums):\n",
    "    lis.append(round(res/nums[i]))\n",
    "\n",
    "\n",
    "print(lis)"
   ]
  },
  {
   "cell_type": "code",
   "execution_count": null,
   "metadata": {},
   "outputs": [],
   "source": [
    "from typing import List\n",
    "\n",
    "def productExceptSelf(self, nums: List[int]) -> List[int]:\n",
    "    "
   ]
  },
  {
   "cell_type": "code",
   "execution_count": null,
   "metadata": {},
   "outputs": [],
   "source": [
    "board = [[\"5\",\"3\",\".\",\".\",\"7\",\".\",\".\",\".\",\".\"]\n",
    ",[\"6\",\".\",\".\",\"1\",\"9\",\"5\",\".\",\".\",\".\"]\n",
    ",[\".\",\"9\",\"8\",\".\",\".\",\".\",\".\",\"6\",\".\"]\n",
    ",[\"8\",\".\",\".\",\".\",\"6\",\".\",\".\",\".\",\"3\"]\n",
    ",[\"4\",\".\",\".\",\"8\",\".\",\"3\",\".\",\".\",\"1\"]\n",
    ",[\"7\",\".\",\".\",\".\",\"2\",\".\",\".\",\".\",\"6\"]\n",
    ",[\".\",\"6\",\".\",\".\",\".\",\".\",\"2\",\"8\",\".\"]\n",
    ",[\".\",\".\",\".\",\"4\",\"1\",\"9\",\".\",\".\",\"5\"]\n",
    ",[\".\",\".\",\".\",\".\",\"8\",\".\",\".\",\"7\",\"9\"]]"
   ]
  },
  {
   "cell_type": "code",
   "execution_count": null,
   "metadata": {},
   "outputs": [],
   "source": [
    "from collections import defaultdict\n",
    "\n",
    "len(board)"
   ]
  },
  {
   "attachments": {},
   "cell_type": "markdown",
   "metadata": {},
   "source": [
    "## Fibonacci Number "
   ]
  },
  {
   "cell_type": "code",
   "execution_count": null,
   "metadata": {},
   "outputs": [],
   "source": [
    "def fibodp(n):\n",
    "    \n",
    "    # Base case\n",
    "    \n",
    "    if n < 2:\n",
    "        return n\n",
    "    \n",
    "    dp = [0,1] # dp[0] = n-2, dp[1] = n-1 -  Fibonacci sequence formula\n",
    "    i = 2  # start from 2 as we already have 0 and 1\n",
    "\n",
    "\n",
    "    # Loop through the range of n\n",
    "    while i <= n:\n",
    "\n",
    "        # Store dp[1] in a temp variable because dp[1] will be updated\n",
    "        tmp = dp[1]\n",
    "        dp[1] = dp[0] + dp[1]  # dp[1] = n-2 + n-1 fibonacci sequence formula\n",
    "        dp[0] = tmp  # update dp[0] with previous dp[1]\n",
    "\n",
    "        i += 1 # increment i\n",
    "\n",
    "    return dp[1] # return dp[1] as it will be the last updated value\n",
    "\n",
    "print(fibodp(22))"
   ]
  },
  {
   "cell_type": "code",
   "execution_count": null,
   "metadata": {},
   "outputs": [],
   "source": [
    "from typing import List\n",
    "def twoSum(nums: List[int], target: int) -> List[int]:\n",
    "    hashMap = {} # Store if numbers exist\n",
    "\n",
    "    for i,n in enumerate(nums):\n",
    "        diff = target - n\n",
    "\n",
    "        if hashMap.get(diff) is not None:\n",
    "            return [hashMap[diff], i]\n",
    "        \n",
    "        hashMap[n] = i\n",
    "\n",
    "    return []\n",
    "\n",
    "\n",
    "    \n",
    "\n",
    "print(twoSum([2,7,11,15], 9))\n",
    "print(twoSum([3,2,4], 6))"
   ]
  },
  {
   "cell_type": "code",
   "execution_count": null,
   "metadata": {},
   "outputs": [],
   "source": [
    "def card_packets1(n, cardTypes):\n",
    "    cards = 0                           #initializing cards required to 0\n",
    "    for i in range(len(cardTypes)):     #iterating over the card types\n",
    "        cards = cards + cardTypes[i]%2  #adding result of number of types modulus 2 to the cards required\n",
    "    return cards                        #returning the result cards required\n",
    "\n",
    "    "
   ]
  },
  {
   "cell_type": "code",
   "execution_count": null,
   "metadata": {},
   "outputs": [],
   "source": [
    "n = 1                     #input types of cards\n",
    "cardTypes = []\n",
    "for i in range(n):\n",
    "    cardTypes.append(int(input()))\n",
    "print(card_packets1(n, cardTypes))"
   ]
  },
  {
   "cell_type": "code",
   "execution_count": null,
   "metadata": {},
   "outputs": [],
   "source": [
    "def cardPackets(cardTypes):\n",
    "    max_quantity = max(cardTypes)\n",
    "    additional_cards = 0\n",
    "\n",
    "    for quantity in cardTypes:\n",
    "        additional_cards += max_quantity - quantity\n",
    "\n",
    "    return additional_cards"
   ]
  },
  {
   "cell_type": "code",
   "execution_count": null,
   "metadata": {},
   "outputs": [],
   "source": [
    "n = 1                     #input types of cards\n",
    "cardTypes = []\n",
    "for i in range(n):\n",
    "    cardTypes.append(int(input()))\n",
    "print(card_packets(n, cardTypes))"
   ]
  },
  {
   "attachments": {},
   "cell_type": "markdown",
   "metadata": {},
   "source": [
    "# JP Morgan"
   ]
  },
  {
   "cell_type": "code",
   "execution_count": null,
   "metadata": {},
   "outputs": [],
   "source": [
    "import heapq\n",
    "\n",
    "def reductionCost(num):\n",
    "    # Convert the array to a min heap\n",
    "    heapq.heapify(num)\n",
    "    \n",
    "    total_cost = 0\n",
    "\n",
    "    while len(num) > 1:\n",
    "        # Extract the two smallest elements from the heap\n",
    "        first = heapq.heappop(num)\n",
    "        second = heapq.heappop(num)\n",
    "\n",
    "        # Calculate the cost and update the total cost\n",
    "        cost = first + second\n",
    "        total_cost += cost\n",
    "\n",
    "        # Add the sum back to the heap\n",
    "        heapq.heappush(num, cost)\n",
    "\n",
    "    return total_cost"
   ]
  },
  {
   "cell_type": "code",
   "execution_count": null,
   "metadata": {},
   "outputs": [],
   "source": [
    "print(reductionCost([4,6,8]))"
   ]
  },
  {
   "cell_type": "code",
   "execution_count": null,
   "metadata": {},
   "outputs": [],
   "source": [
    "def threesumclosest(nums, target): # using two pointers a + b + c approach\n",
    "    nums.sort()\n",
    "    closest = float('inf') # set closest to infinity\n",
    "    for i in range(len(nums)):\n",
    "        left = i + 1\n",
    "        right = len(nums) - 1\n",
    "        while left < right:\n",
    "            total = nums[i] + nums[left] + nums[right]\n",
    "            if abs(target - total) < abs(target - closest): # \n",
    "                closest = total\n",
    "            if total < target: #\n",
    "                left += 1\n",
    "            else:\n",
    "                right -= 1\n",
    "    return closest\n"
   ]
  },
  {
   "cell_type": "code",
   "execution_count": null,
   "metadata": {},
   "outputs": [],
   "source": [
    "print(-1 + 2 + 4)"
   ]
  },
  {
   "cell_type": "code",
   "execution_count": null,
   "metadata": {},
   "outputs": [],
   "source": [
    "from collections import defaultdict\n",
    "from collections import deque\n",
    "\n",
    "\n",
    "def getRatio(start, end, data):\n",
    "    dict = defaultdict(list)\n",
    "    for node in data:\n",
    "        dict[node[0]].append([node[1], node[2]])\n",
    "        dict[node[1]].append([node[0], 1.0 / node[2]])\n",
    "    queue = deque()\n",
    "    queue.append((start, 1.0))\n",
    "    visited = set()\n",
    "    while queue:\n",
    "        curr, num = queue.popleft()\n",
    "        if curr in visited:\n",
    "            continue\n",
    "        visited.add(curr)\n",
    "        if curr in dict:\n",
    "            values = dict.get(curr)\n",
    "            next = {}\n",
    "            for val in values:\n",
    "                next[val[0]] = val[1]\n",
    "            for key in next:\n",
    "                if key not in visited:\n",
    "                    if key == end:\n",
    "                        return num * next[key]\n",
    "                    queue.append((key, num * next[key]))\n",
    "    return -1"
   ]
  },
  {
   "cell_type": "code",
   "execution_count": null,
   "metadata": {},
   "outputs": [],
   "source": [
    "data = [(\"USD\", \"JPY\", 110), (\"USD\", \"AUD\", 1.45), (\"JPY\", \"GBP\", 0.0070)]\n",
    "print(getRatio(\"GBP\", \"AUD\", data))"
   ]
  },
  {
   "cell_type": "code",
   "execution_count": null,
   "metadata": {},
   "outputs": [],
   "source": [
    "list_foreign_exchange = input().strip()\n",
    "selected_currency = input().strip()\n",
    "target_currency = input().strip()\n",
    "\n",
    "found = False\n",
    "max1 = 0\n",
    "\n",
    "currency = []\n",
    "currency_string = list_foreign_exchange.split(\";\")\n",
    "\n",
    "for cur in currency_string:\n",
    "    currency.append(cur.split(\",\"))\n",
    "\n",
    "for cur in currency:    \n",
    "    if selected_currency == cur[0] and target_currency == cur[1]:        \n",
    "        max1 = float(cur[2])\n",
    "        found = True\n",
    "        break\n",
    "\n",
    "max2 = 1\n",
    "tried_index = 0\n",
    "ref = selected_currency\n",
    "\n",
    "while ref != target_currency and tried_index < len(currency):\n",
    "    for cur in currency:\n",
    "        if ref == cur[0]:\n",
    "            ref = cur[1]\n",
    "            max2 *= float(cur[2])\n",
    "            break\n",
    "    tried_index += 1\n",
    "\n",
    "if found:\n",
    "    if max2 > max1:\n",
    "        print(max2)\n",
    "    else:\n",
    "        print(max1)\n",
    "else:\n",
    "    print('-1.0')\n"
   ]
  },
  {
   "cell_type": "code",
   "execution_count": null,
   "metadata": {},
   "outputs": [],
   "source": [
    "from typing import List\n",
    "def largestAltitude(gain: List[int]) -> int:\n",
    "    res = 0\n",
    "    alti = [0]\n",
    "\n",
    "    for i, val in enumerate(gain):\n",
    "        curr_gain = alti[i] + gain[i]\n",
    "        alti.append(curr_gain)\n",
    "\n",
    "\n",
    "    return alti"
   ]
  },
  {
   "cell_type": "code",
   "execution_count": null,
   "metadata": {},
   "outputs": [],
   "source": [
    "print(largestAltitude([-4,-3,-2,-1,4,3,2]))"
   ]
  },
  {
   "cell_type": "code",
   "execution_count": 18,
   "metadata": {},
   "outputs": [],
   "source": [
    "# Designing Hashmap using array and linked list\n",
    "\n",
    "class Node:\n",
    "    def __init__(self, key = -1, val = -1, next = None):\n",
    "        self.key = key # key of the node\n",
    "        self.val = val # value of the node\n",
    "        self.next = next # pointer to the next node\n",
    "\n",
    "\n",
    "class Hashmap:\n",
    "    def __init__(self):\n",
    "        self.map = [Node() for i in range(10000)]  # Creating dummy nodes for each index for 10^4\n",
    "\n",
    "    def hash_func(self, key):\n",
    "        return key % len(self.map)\n",
    "\n",
    "    def put(self, key, value):\n",
    "        current = self.map[self.hash_func(key)]  # Getting the index using hash function and assigning it to the current\n",
    "\n",
    "\n",
    "        # Traversing the LL, we set it to next because we have intialized all the LLs at the indices with a dummy node\n",
    "\n",
    "        while current.next:\n",
    "\n",
    "            # First Case - If we are inserting the key-pair for the first time\n",
    "            if current.next.key == key:    # If the key matches the current key of the node then we add the value at that position and return \n",
    "                current.next.val = value  \n",
    "                return                \n",
    "            \n",
    "            # Go to the next node\n",
    "            current = current.next\n",
    "\n",
    "            # Second Case - If we already have a key-value pair at that position \n",
    "\n",
    "            # If this is the case, then we create a new node\n",
    "\n",
    "        current.next = Node(key, value)\n",
    "\n",
    "\n",
    "\n",
    "    def get(self, key):\n",
    "        current = self.map[self.hash_func(key)].next  # Getting the index using hash function and assigning it to the current, use next here as the first node is the dummy node\n",
    "\n",
    "        # Traversing the LL\n",
    "        while current:\n",
    "            if current.key == key:\n",
    "                return current.val\n",
    "            \n",
    "            current = current.next\n",
    "        return -1\n",
    "        \n",
    "\n",
    "\n",
    "    def remove(self, key):\n",
    "        current = self.map[self.hash_func(key)] # Getting the index using hash function\n",
    "\n",
    "        while current and current.next:\n",
    "            if current.next.key == key: # If the key is the intended key which we want to remove then we simply point the previous node to the node after the intended node which we want to delete. \n",
    "                current.next.key = current.next.next\n",
    "\n",
    "                return\n",
    "            \n",
    "            current = current.next\n",
    "\n",
    "\n",
    "\n"
   ]
  },
  {
   "cell_type": "code",
   "execution_count": 22,
   "metadata": {},
   "outputs": [
    {
     "name": "stdout",
     "output_type": "stream",
     "text": [
      "3\n"
     ]
    }
   ],
   "source": [
    "# Testing the hashmap\n",
    "\n",
    "hashmap = Hashmap()\n",
    "hashmap.put(1,1)\n",
    "hashmap.put(2,2)\n",
    "hashmap.put(3,3)\n",
    "hashmap.put(4,4)\n",
    "hashmap.put(5,5)\n",
    "hashmap.put(6,6)\n",
    "hashmap.put(7,7)\n",
    "#hashmap.remove(3)\n",
    "\n",
    "print(hashmap.get(3))\n",
    "# Output"
   ]
  },
  {
   "cell_type": "code",
   "execution_count": 3,
   "metadata": {},
   "outputs": [],
   "source": [
    "class Node:\n",
    "    # Setting key and value to -1 as the first node of the LL will be a dummy node\n",
    "    def __init__(self, key = -1, value = -1, next = None):\n",
    "        self.key = key # key of the node\n",
    "        self.value = value # value of the node\n",
    "        self.next = next # pointer to the next node\n",
    "\n",
    "\n",
    "class Hashmap:\n",
    "    def __init__(self):\n",
    "        self.map = [Node() for i in range(10000)] # Creating an array of size 10000 as at most 10^4 calls will be made to the hashmap\n",
    "\n",
    "\n",
    "    def hash_func(self, key):\n",
    "        return key % len(self.map) # Getting the hash key for each key using modulo operation\n",
    "    \n",
    "\n",
    "    def put(self, key, value):\n",
    "        current = self.map[self.hash_func(key)] # Getting the index using hash function and storing it in current\n",
    "\n",
    "        # Traversing the LL at that index from current.next as the first node is a dummy node, we use the dummy node to avoid edge cases like if the LL is empty or the first node is the node we want to delete)\n",
    "\n",
    "        while current.next:\n",
    "\n",
    "            # First Case - New Insertion at the index\n",
    "            if current.next.key == key:\n",
    "                current.next.value = value\n",
    "\n",
    "                return\n",
    "            \n",
    "            current = current.next # On to the next node\n",
    "\n",
    "        # Second Case - Collision Handling, create a new node and append it to the LL at that index\n",
    "\n",
    "        current.next = Node(key, value)\n",
    "\n",
    "\n",
    "    def remove(self, key):\n",
    "        current = self.map[self.hash_func(key)] \n",
    "\n",
    "        # If both current and current.next are not None because first node is a dummy node.\n",
    "        while current.next and current:\n",
    "            if current.next.key == key:\n",
    "                # if the key is matched, we point the current.next to the next node of the node we want to delete\n",
    "                current.next = current.next.next\n",
    "\n",
    "                return \n",
    "            \n",
    "            current = current.next # On to the next node\n",
    "\n",
    "\n",
    "    def get(self, key):\n",
    "        current = self.map[self.hash_func(key)].next # Setting it to next as the first node is a dummy node\n",
    "\n",
    "        while current:\n",
    "            if current.key == key: # If the key is matched, we return the value\n",
    "                return current.value\n",
    "            \n",
    "            current = current.next # On to the next node\n",
    "\n",
    "        return -1\n"
   ]
  },
  {
   "cell_type": "code",
   "execution_count": 6,
   "metadata": {},
   "outputs": [
    {
     "data": {
      "text/plain": [
       "-1"
      ]
     },
     "execution_count": 6,
     "metadata": {},
     "output_type": "execute_result"
    }
   ],
   "source": [
    "# Testng the hashmap\n",
    "\n",
    "hashmap = Hashmap()\n",
    "hashmap.put(1,1)\n",
    "hashmap.put(2,2)\n",
    "hashmap.put(3,6)\n",
    "hashmap.put(4,4)\n",
    "hashmap.put(5,5)\n",
    "hashmap.put(6,6)\n",
    "\n",
    "hashmap.remove(3)\n",
    "hashmap.get(3)"
   ]
  }
 ],
 "metadata": {
  "kernelspec": {
   "display_name": "Python 3",
   "language": "python",
   "name": "python3"
  },
  "language_info": {
   "codemirror_mode": {
    "name": "ipython",
    "version": 3
   },
   "file_extension": ".py",
   "mimetype": "text/x-python",
   "name": "python",
   "nbconvert_exporter": "python",
   "pygments_lexer": "ipython3",
   "version": "3.10.11"
  },
  "orig_nbformat": 4
 },
 "nbformat": 4,
 "nbformat_minor": 2
}
