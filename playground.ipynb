{
 "cells": [
  {
   "cell_type": "code",
   "execution_count": null,
   "metadata": {},
   "outputs": [],
   "source": [
    "def mul(nums):\n",
    "    res = 1\n",
    "    lis = []\n",
    "    for i,n in enumerate(nums):\n",
    "        res *= n\n",
    "        lis.append(res)"
   ]
  },
  {
   "cell_type": "code",
   "execution_count": 6,
   "metadata": {},
   "outputs": [
    {
     "name": "stdout",
     "output_type": "stream",
     "text": [
      "[24, 12, 8, 6]\n"
     ]
    }
   ],
   "source": [
    "nums = [1,2,3,4]\n",
    "res = 1\n",
    "lis = []\n",
    "for i,n in enumerate(nums):\n",
    "    res *= n\n",
    "\n",
    "for i,n in enumerate(nums):\n",
    "    lis.append(round(res/nums[i]))\n",
    "\n",
    "\n",
    "print(lis)"
   ]
  },
  {
   "cell_type": "code",
   "execution_count": null,
   "metadata": {},
   "outputs": [],
   "source": [
    "from typing import List\n",
    "\n",
    "def productExceptSelf(self, nums: List[int]) -> List[int]:\n",
    "    "
   ]
  },
  {
   "cell_type": "code",
   "execution_count": 9,
   "metadata": {},
   "outputs": [],
   "source": [
    "board = [[\"5\",\"3\",\".\",\".\",\"7\",\".\",\".\",\".\",\".\"]\n",
    ",[\"6\",\".\",\".\",\"1\",\"9\",\"5\",\".\",\".\",\".\"]\n",
    ",[\".\",\"9\",\"8\",\".\",\".\",\".\",\".\",\"6\",\".\"]\n",
    ",[\"8\",\".\",\".\",\".\",\"6\",\".\",\".\",\".\",\"3\"]\n",
    ",[\"4\",\".\",\".\",\"8\",\".\",\"3\",\".\",\".\",\"1\"]\n",
    ",[\"7\",\".\",\".\",\".\",\"2\",\".\",\".\",\".\",\"6\"]\n",
    ",[\".\",\"6\",\".\",\".\",\".\",\".\",\"2\",\"8\",\".\"]\n",
    ",[\".\",\".\",\".\",\"4\",\"1\",\"9\",\".\",\".\",\"5\"]\n",
    ",[\".\",\".\",\".\",\".\",\"8\",\".\",\".\",\"7\",\"9\"]]"
   ]
  },
  {
   "cell_type": "code",
   "execution_count": 11,
   "metadata": {},
   "outputs": [
    {
     "data": {
      "text/plain": [
       "9"
      ]
     },
     "execution_count": 11,
     "metadata": {},
     "output_type": "execute_result"
    }
   ],
   "source": [
    "from collections import defaultdict\n",
    "\n",
    "len(board)"
   ]
  },
  {
   "attachments": {},
   "cell_type": "markdown",
   "metadata": {},
   "source": [
    "## Fibonacci Number "
   ]
  },
  {
   "cell_type": "code",
   "execution_count": 6,
   "metadata": {},
   "outputs": [
    {
     "name": "stdout",
     "output_type": "stream",
     "text": [
      "17711\n"
     ]
    }
   ],
   "source": [
    "def fibodp(n):\n",
    "    \n",
    "    # Base case\n",
    "    \n",
    "    if n < 2:\n",
    "        return n\n",
    "    \n",
    "    dp = [0,1] # dp[0] = n-2, dp[1] = n-1 -  Fibonacci sequence formula\n",
    "    i = 2  # start from 2 as we already have 0 and 1\n",
    "\n",
    "\n",
    "    # Loop through the range of n\n",
    "    while i <= n:\n",
    "\n",
    "        # Store dp[1] in a temp variable because dp[1] will be updated\n",
    "        tmp = dp[1]\n",
    "        dp[1] = dp[0] + dp[1]  # dp[1] = n-2 + n-1 fibonacci sequence formula\n",
    "        dp[0] = tmp  # update dp[0] with previous dp[1]\n",
    "\n",
    "        i += 1 # increment i\n",
    "\n",
    "    return dp[1] # return dp[1] as it will be the last updated value\n",
    "\n",
    "print(fibodp(22))"
   ]
  },
  {
   "cell_type": "code",
   "execution_count": 10,
   "metadata": {},
   "outputs": [
    {
     "name": "stdout",
     "output_type": "stream",
     "text": [
      "[0, 1]\n",
      "[1, 2]\n"
     ]
    }
   ],
   "source": [
    "from typing import List\n",
    "def twoSum(nums: List[int], target: int) -> List[int]:\n",
    "    hashMap = {} # Store if numbers exist\n",
    "\n",
    "    for i,n in enumerate(nums):\n",
    "        diff = target - n\n",
    "\n",
    "        if hashMap.get(diff) is not None:\n",
    "            return [hashMap[diff], i]\n",
    "        \n",
    "        hashMap[n] = i\n",
    "\n",
    "    return []\n",
    "\n",
    "\n",
    "    \n",
    "\n",
    "print(twoSum([2,7,11,15], 9))\n",
    "print(twoSum([3,2,4], 6))"
   ]
  },
  {
   "cell_type": "code",
   "execution_count": 16,
   "metadata": {},
   "outputs": [],
   "source": [
    "def card_packets1(n, cardTypes):\n",
    "    cards = 0                           #initializing cards required to 0\n",
    "    for i in range(len(cardTypes)):     #iterating over the card types\n",
    "        cards = cards + cardTypes[i]%2  #adding result of number of types modulus 2 to the cards required\n",
    "    return cards                        #returning the result cards required\n",
    "\n",
    "    "
   ]
  },
  {
   "cell_type": "code",
   "execution_count": 17,
   "metadata": {},
   "outputs": [
    {
     "name": "stdout",
     "output_type": "stream",
     "text": [
      "1\n"
     ]
    }
   ],
   "source": [
    "n = 1                     #input types of cards\n",
    "cardTypes = []\n",
    "for i in range(n):\n",
    "    cardTypes.append(int(input()))\n",
    "print(card_packets1(n, cardTypes))"
   ]
  },
  {
   "cell_type": "code",
   "execution_count": 18,
   "metadata": {},
   "outputs": [],
   "source": [
    "def cardPackets(cardTypes):\n",
    "    max_quantity = max(cardTypes)\n",
    "    additional_cards = 0\n",
    "\n",
    "    for quantity in cardTypes:\n",
    "        additional_cards += max_quantity - quantity\n",
    "\n",
    "    return additional_cards"
   ]
  },
  {
   "cell_type": "code",
   "execution_count": 19,
   "metadata": {},
   "outputs": [
    {
     "name": "stdout",
     "output_type": "stream",
     "text": [
      "1\n"
     ]
    }
   ],
   "source": [
    "n = 1                     #input types of cards\n",
    "cardTypes = []\n",
    "for i in range(n):\n",
    "    cardTypes.append(int(input()))\n",
    "print(card_packets(n, cardTypes))"
   ]
  },
  {
   "attachments": {},
   "cell_type": "markdown",
   "metadata": {},
   "source": [
    "# JP Morgan"
   ]
  },
  {
   "cell_type": "code",
   "execution_count": 10,
   "metadata": {},
   "outputs": [],
   "source": [
    "import heapq\n",
    "\n",
    "def reductionCost(num):\n",
    "    # Convert the array to a min heap\n",
    "    heapq.heapify(num)\n",
    "    \n",
    "    total_cost = 0\n",
    "\n",
    "    while len(num) > 1:\n",
    "        # Extract the two smallest elements from the heap\n",
    "        first = heapq.heappop(num)\n",
    "        second = heapq.heappop(num)\n",
    "\n",
    "        # Calculate the cost and update the total cost\n",
    "        cost = first + second\n",
    "        total_cost += cost\n",
    "\n",
    "        # Add the sum back to the heap\n",
    "        heapq.heappush(num, cost)\n",
    "\n",
    "    return total_cost"
   ]
  },
  {
   "cell_type": "code",
   "execution_count": 12,
   "metadata": {},
   "outputs": [
    {
     "name": "stdout",
     "output_type": "stream",
     "text": [
      "28\n"
     ]
    }
   ],
   "source": [
    "print(reductionCost([4,6,8]))"
   ]
  },
  {
   "cell_type": "code",
   "execution_count": null,
   "metadata": {},
   "outputs": [],
   "source": [
    "def strStr(haystack, needle): # Using two pointer\n",
    "    if not needle:\n",
    "        return 0\n",
    "    \n",
    "\n",
    "    for i in range(len(haystack) - len(needle) + 1): # Loop through the haystack\n",
    "        if haystack[i] == needle[0]: # If the first letter of needle is found in haystack\n",
    "            for j in range(len(needle)): # Loop through the needle\n",
    "                "
   ]
  }
 ],
 "metadata": {
  "kernelspec": {
   "display_name": "Python 3",
   "language": "python",
   "name": "python3"
  },
  "language_info": {
   "codemirror_mode": {
    "name": "ipython",
    "version": 3
   },
   "file_extension": ".py",
   "mimetype": "text/x-python",
   "name": "python",
   "nbconvert_exporter": "python",
   "pygments_lexer": "ipython3",
   "version": "3.10.11"
  },
  "orig_nbformat": 4
 },
 "nbformat": 4,
 "nbformat_minor": 2
}
