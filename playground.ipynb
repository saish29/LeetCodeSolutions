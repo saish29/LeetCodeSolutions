{
 "cells": [
  {
   "cell_type": "code",
   "execution_count": null,
   "metadata": {},
   "outputs": [],
   "source": [
    "def mul(nums):\n",
    "    res = 1\n",
    "    lis = []\n",
    "    for i,n in enumerate(nums):\n",
    "        res *= n\n",
    "        lis.append(res)"
   ]
  },
  {
   "cell_type": "code",
   "execution_count": 6,
   "metadata": {},
   "outputs": [
    {
     "name": "stdout",
     "output_type": "stream",
     "text": [
      "[24, 12, 8, 6]\n"
     ]
    }
   ],
   "source": [
    "nums = [1,2,3,4]\n",
    "res = 1\n",
    "lis = []\n",
    "for i,n in enumerate(nums):\n",
    "    res *= n\n",
    "\n",
    "for i,n in enumerate(nums):\n",
    "    lis.append(round(res/nums[i]))\n",
    "\n",
    "\n",
    "print(lis)"
   ]
  },
  {
   "cell_type": "code",
   "execution_count": null,
   "metadata": {},
   "outputs": [],
   "source": [
    "from typing import List\n",
    "\n",
    "def productExceptSelf(self, nums: List[int]) -> List[int]:\n",
    "    "
   ]
  },
  {
   "cell_type": "code",
   "execution_count": 9,
   "metadata": {},
   "outputs": [],
   "source": [
    "board = [[\"5\",\"3\",\".\",\".\",\"7\",\".\",\".\",\".\",\".\"]\n",
    ",[\"6\",\".\",\".\",\"1\",\"9\",\"5\",\".\",\".\",\".\"]\n",
    ",[\".\",\"9\",\"8\",\".\",\".\",\".\",\".\",\"6\",\".\"]\n",
    ",[\"8\",\".\",\".\",\".\",\"6\",\".\",\".\",\".\",\"3\"]\n",
    ",[\"4\",\".\",\".\",\"8\",\".\",\"3\",\".\",\".\",\"1\"]\n",
    ",[\"7\",\".\",\".\",\".\",\"2\",\".\",\".\",\".\",\"6\"]\n",
    ",[\".\",\"6\",\".\",\".\",\".\",\".\",\"2\",\"8\",\".\"]\n",
    ",[\".\",\".\",\".\",\"4\",\"1\",\"9\",\".\",\".\",\"5\"]\n",
    ",[\".\",\".\",\".\",\".\",\"8\",\".\",\".\",\"7\",\"9\"]]"
   ]
  },
  {
   "cell_type": "code",
   "execution_count": 11,
   "metadata": {},
   "outputs": [
    {
     "data": {
      "text/plain": [
       "9"
      ]
     },
     "execution_count": 11,
     "metadata": {},
     "output_type": "execute_result"
    }
   ],
   "source": [
    "from collections import defaultdict\n",
    "\n",
    "len(board)"
   ]
  },
  {
   "attachments": {},
   "cell_type": "markdown",
   "metadata": {},
   "source": [
    "## Fibonacci Number "
   ]
  },
  {
   "cell_type": "code",
   "execution_count": 6,
   "metadata": {},
   "outputs": [
    {
     "name": "stdout",
     "output_type": "stream",
     "text": [
      "17711\n"
     ]
    }
   ],
   "source": [
    "def fibodp(n):\n",
    "    \n",
    "    # Base case\n",
    "    \n",
    "    if n < 2:\n",
    "        return n\n",
    "    \n",
    "    dp = [0,1] # dp[0] = n-2, dp[1] = n-1 -  Fibonacci sequence formula\n",
    "    i = 2  # start from 2 as we already have 0 and 1\n",
    "\n",
    "\n",
    "    # Loop through the range of n\n",
    "    while i <= n:\n",
    "\n",
    "        # Store dp[1] in a temp variable because dp[1] will be updated\n",
    "        tmp = dp[1]\n",
    "        dp[1] = dp[0] + dp[1]  # dp[1] = n-2 + n-1 fibonacci sequence formula\n",
    "        dp[0] = tmp  # update dp[0] with previous dp[1]\n",
    "\n",
    "        i += 1 # increment i\n",
    "\n",
    "    return dp[1] # return dp[1] as it will be the last updated value\n",
    "\n",
    "print(fibodp(22))"
   ]
  },
  {
   "cell_type": "code",
   "execution_count": 10,
   "metadata": {},
   "outputs": [
    {
     "name": "stdout",
     "output_type": "stream",
     "text": [
      "[0, 1]\n",
      "[1, 2]\n"
     ]
    }
   ],
   "source": [
    "from typing import List\n",
    "def twoSum(nums: List[int], target: int) -> List[int]:\n",
    "    hashMap = {} # Store if numbers exist\n",
    "\n",
    "    for i,n in enumerate(nums):\n",
    "        diff = target - n\n",
    "\n",
    "        if hashMap.get(diff) is not None:\n",
    "            return [hashMap[diff], i]\n",
    "        \n",
    "        hashMap[n] = i\n",
    "\n",
    "    return []\n",
    "\n",
    "\n",
    "    \n",
    "\n",
    "print(twoSum([2,7,11,15], 9))\n",
    "print(twoSum([3,2,4], 6))"
   ]
  },
  {
   "cell_type": "code",
   "execution_count": 16,
   "metadata": {},
   "outputs": [],
   "source": [
    "def card_packets1(n, cardTypes):\n",
    "    cards = 0                           #initializing cards required to 0\n",
    "    for i in range(len(cardTypes)):     #iterating over the card types\n",
    "        cards = cards + cardTypes[i]%2  #adding result of number of types modulus 2 to the cards required\n",
    "    return cards                        #returning the result cards required\n",
    "\n",
    "    "
   ]
  },
  {
   "cell_type": "code",
   "execution_count": 17,
   "metadata": {},
   "outputs": [
    {
     "name": "stdout",
     "output_type": "stream",
     "text": [
      "1\n"
     ]
    }
   ],
   "source": [
    "n = 1                     #input types of cards\n",
    "cardTypes = []\n",
    "for i in range(n):\n",
    "    cardTypes.append(int(input()))\n",
    "print(card_packets1(n, cardTypes))"
   ]
  },
  {
   "cell_type": "code",
   "execution_count": 18,
   "metadata": {},
   "outputs": [],
   "source": [
    "def cardPackets(cardTypes):\n",
    "    max_quantity = max(cardTypes)\n",
    "    additional_cards = 0\n",
    "\n",
    "    for quantity in cardTypes:\n",
    "        additional_cards += max_quantity - quantity\n",
    "\n",
    "    return additional_cards"
   ]
  },
  {
   "cell_type": "code",
   "execution_count": 19,
   "metadata": {},
   "outputs": [
    {
     "name": "stdout",
     "output_type": "stream",
     "text": [
      "1\n"
     ]
    }
   ],
   "source": [
    "n = 1                     #input types of cards\n",
    "cardTypes = []\n",
    "for i in range(n):\n",
    "    cardTypes.append(int(input()))\n",
    "print(card_packets(n, cardTypes))"
   ]
  },
  {
   "attachments": {},
   "cell_type": "markdown",
   "metadata": {},
   "source": [
    "# JP Morgan"
   ]
  },
  {
   "cell_type": "code",
   "execution_count": 10,
   "metadata": {},
   "outputs": [],
   "source": [
    "import heapq\n",
    "\n",
    "def reductionCost(num):\n",
    "    # Convert the array to a min heap\n",
    "    heapq.heapify(num)\n",
    "    \n",
    "    total_cost = 0\n",
    "\n",
    "    while len(num) > 1:\n",
    "        # Extract the two smallest elements from the heap\n",
    "        first = heapq.heappop(num)\n",
    "        second = heapq.heappop(num)\n",
    "\n",
    "        # Calculate the cost and update the total cost\n",
    "        cost = first + second\n",
    "        total_cost += cost\n",
    "\n",
    "        # Add the sum back to the heap\n",
    "        heapq.heappush(num, cost)\n",
    "\n",
    "    return total_cost"
   ]
  },
  {
   "cell_type": "code",
   "execution_count": 12,
   "metadata": {},
   "outputs": [
    {
     "name": "stdout",
     "output_type": "stream",
     "text": [
      "28\n"
     ]
    }
   ],
   "source": [
    "print(reductionCost([4,6,8]))"
   ]
  },
  {
   "cell_type": "code",
   "execution_count": null,
   "metadata": {},
   "outputs": [],
   "source": [
    "def threesumclosest(nums, target): # using two pointers a + b + c approach\n",
    "    nums.sort()\n",
    "    closest = float('inf') # set closest to infinity\n",
    "    for i in range(len(nums)):\n",
    "        left = i + 1\n",
    "        right = len(nums) - 1\n",
    "        while left < right:\n",
    "            total = nums[i] + nums[left] + nums[right]\n",
    "            if abs(target - total) < abs(target - closest): # \n",
    "                closest = total\n",
    "            if total < target: #\n",
    "                left += 1\n",
    "            else:\n",
    "                right -= 1\n",
    "    return closest\n"
   ]
  },
  {
   "cell_type": "code",
   "execution_count": 4,
   "metadata": {},
   "outputs": [
    {
     "name": "stdout",
     "output_type": "stream",
     "text": [
      "5\n"
     ]
    }
   ],
   "source": [
    "print(-1 + 2 + 4)"
   ]
  },
  {
   "cell_type": "code",
   "execution_count": 5,
   "metadata": {},
   "outputs": [],
   "source": [
    "from collections import defaultdict\n",
    "from collections import deque\n",
    "\n",
    "\n",
    "def getRatio(start, end, data):\n",
    "    dict = defaultdict(list)\n",
    "    for node in data:\n",
    "        dict[node[0]].append([node[1], node[2]])\n",
    "        dict[node[1]].append([node[0], 1.0 / node[2]])\n",
    "    queue = deque()\n",
    "    queue.append((start, 1.0))\n",
    "    visited = set()\n",
    "    while queue:\n",
    "        curr, num = queue.popleft()\n",
    "        if curr in visited:\n",
    "            continue\n",
    "        visited.add(curr)\n",
    "        if curr in dict:\n",
    "            values = dict.get(curr)\n",
    "            next = {}\n",
    "            for val in values:\n",
    "                next[val[0]] = val[1]\n",
    "            for key in next:\n",
    "                if key not in visited:\n",
    "                    if key == end:\n",
    "                        return num * next[key]\n",
    "                    queue.append((key, num * next[key]))\n",
    "    return -1"
   ]
  },
  {
   "cell_type": "code",
   "execution_count": 6,
   "metadata": {},
   "outputs": [
    {
     "name": "stdout",
     "output_type": "stream",
     "text": [
      "1.883116883116883\n"
     ]
    }
   ],
   "source": [
    "data = [(\"USD\", \"JPY\", 110), (\"USD\", \"AUD\", 1.45), (\"JPY\", \"GBP\", 0.0070)]\n",
    "print(getRatio(\"GBP\", \"AUD\", data))"
   ]
  },
  {
   "cell_type": "code",
   "execution_count": 1,
   "metadata": {},
   "outputs": [
    {
     "name": "stdout",
     "output_type": "stream",
     "text": [
      "109.0\n"
     ]
    }
   ],
   "source": [
    "list_foreign_exchange = input().strip()\n",
    "selected_currency = input().strip()\n",
    "target_currency = input().strip()\n",
    "\n",
    "found = False\n",
    "max1 = 0\n",
    "\n",
    "currency = []\n",
    "currency_string = list_foreign_exchange.split(\";\")\n",
    "\n",
    "for cur in currency_string:\n",
    "    currency.append(cur.split(\",\"))\n",
    "\n",
    "for cur in currency:    \n",
    "    if selected_currency == cur[0] and target_currency == cur[1]:        \n",
    "        max1 = float(cur[2])\n",
    "        found = True\n",
    "        break\n",
    "\n",
    "max2 = 1\n",
    "tried_index = 0\n",
    "ref = selected_currency\n",
    "\n",
    "while ref != target_currency and tried_index < len(currency):\n",
    "    for cur in currency:\n",
    "        if ref == cur[0]:\n",
    "            ref = cur[1]\n",
    "            max2 *= float(cur[2])\n",
    "            break\n",
    "    tried_index += 1\n",
    "\n",
    "if found:\n",
    "    if max2 > max1:\n",
    "        print(max2)\n",
    "    else:\n",
    "        print(max1)\n",
    "else:\n",
    "    print('-1.0')\n"
   ]
  }
 ],
 "metadata": {
  "kernelspec": {
   "display_name": "Python 3",
   "language": "python",
   "name": "python3"
  },
  "language_info": {
   "codemirror_mode": {
    "name": "ipython",
    "version": 3
   },
   "file_extension": ".py",
   "mimetype": "text/x-python",
   "name": "python",
   "nbconvert_exporter": "python",
   "pygments_lexer": "ipython3",
   "version": "3.10.11"
  },
  "orig_nbformat": 4
 },
 "nbformat": 4,
 "nbformat_minor": 2
}
